{
 "cells": [
  {
   "cell_type": "markdown",
   "metadata": {},
   "source": [
    "## Introduction\n",
    "Natural language processing is useful for performing tasks like text classification which in this case involves the assignment of text to predefined categories. The dataset utilised for this project is the AG News dataset, a widely used benchmark in research, containing news titles and descriptions categorised into four classes. It consists of a collection of news articles, each categorised into one of four predefined classes: World, Sports, Business, and Technology. \n",
    "\n",
    "Each instance in the dataset contains a brief title summarising the news article, alongside a corresponding category label. The dataset includes 120,000 examples in total, with 30,000 examples per class used for training and 7,600 examples split evenly across the classes for testing. Strengths of the dataset come in its simplicity, and it features a  balanced class distribution, and the titles are relevant to real-world scenarios. The category labels are encoded as numerical values: World as 0, Sports as 1, Business as 2, and Technology as 3.\n",
    "The project aims to classify the titles of news articles into 4 categories of World, Sports, Business, Technology. This classification task presents an opportunity to apply various machine learning and natural language processing techniques and assess their performance to the dataset."
   ]
  },
  {
   "cell_type": "code",
   "execution_count": 31,
   "metadata": {},
   "outputs": [],
   "source": [
    "from datasets import load_dataset\n",
    "\n",
    "ds = load_dataset(\"wangrongsheng/ag_news\")"
   ]
  },
  {
   "cell_type": "code",
   "execution_count": 32,
   "metadata": {},
   "outputs": [
    {
     "name": "stdout",
     "output_type": "stream",
     "text": [
      "DatasetDict({\n",
      "    train: Dataset({\n",
      "        features: ['text', 'label'],\n",
      "        num_rows: 120000\n",
      "    })\n",
      "    test: Dataset({\n",
      "        features: ['text', 'label'],\n",
      "        num_rows: 7600\n",
      "    })\n",
      "})\n"
     ]
    }
   ],
   "source": [
    "print(ds)"
   ]
  },
  {
   "cell_type": "code",
   "execution_count": 33,
   "metadata": {},
   "outputs": [],
   "source": [
    "# import libraries\n",
    "import pandas as pd\n",
    "import matplotlib.pyplot as plt\n",
    "import seaborn as sns"
   ]
  },
  {
   "cell_type": "code",
   "execution_count": 34,
   "metadata": {},
   "outputs": [],
   "source": [
    "splits = {'train': 'data/train-00000-of-00001.parquet', 'test': 'data/test-00000-of-00001.parquet'}\n",
    "df = pd.read_parquet(\"hf://datasets/wangrongsheng/ag_news/\" + splits[\"train\"])\n",
    "df_test = pd.read_parquet(\"hf://datasets/wangrongsheng/ag_news/\" + splits[\"test\"])"
   ]
  },
  {
   "cell_type": "code",
   "execution_count": 35,
   "metadata": {},
   "outputs": [
    {
     "data": {
      "text/html": [
       "<div>\n",
       "<style scoped>\n",
       "    .dataframe tbody tr th:only-of-type {\n",
       "        vertical-align: middle;\n",
       "    }\n",
       "\n",
       "    .dataframe tbody tr th {\n",
       "        vertical-align: top;\n",
       "    }\n",
       "\n",
       "    .dataframe thead th {\n",
       "        text-align: right;\n",
       "    }\n",
       "</style>\n",
       "<table border=\"1\" class=\"dataframe\">\n",
       "  <thead>\n",
       "    <tr style=\"text-align: right;\">\n",
       "      <th></th>\n",
       "      <th>text</th>\n",
       "      <th>label</th>\n",
       "    </tr>\n",
       "  </thead>\n",
       "  <tbody>\n",
       "    <tr>\n",
       "      <th>0</th>\n",
       "      <td>Wall St. Bears Claw Back Into the Black (Reute...</td>\n",
       "      <td>2</td>\n",
       "    </tr>\n",
       "    <tr>\n",
       "      <th>1</th>\n",
       "      <td>Carlyle Looks Toward Commercial Aerospace (Reu...</td>\n",
       "      <td>2</td>\n",
       "    </tr>\n",
       "    <tr>\n",
       "      <th>2</th>\n",
       "      <td>Oil and Economy Cloud Stocks' Outlook (Reuters...</td>\n",
       "      <td>2</td>\n",
       "    </tr>\n",
       "    <tr>\n",
       "      <th>3</th>\n",
       "      <td>Iraq Halts Oil Exports from Main Southern Pipe...</td>\n",
       "      <td>2</td>\n",
       "    </tr>\n",
       "    <tr>\n",
       "      <th>4</th>\n",
       "      <td>Oil prices soar to all-time record, posing new...</td>\n",
       "      <td>2</td>\n",
       "    </tr>\n",
       "  </tbody>\n",
       "</table>\n",
       "</div>"
      ],
      "text/plain": [
       "                                                text  label\n",
       "0  Wall St. Bears Claw Back Into the Black (Reute...      2\n",
       "1  Carlyle Looks Toward Commercial Aerospace (Reu...      2\n",
       "2  Oil and Economy Cloud Stocks' Outlook (Reuters...      2\n",
       "3  Iraq Halts Oil Exports from Main Southern Pipe...      2\n",
       "4  Oil prices soar to all-time record, posing new...      2"
      ]
     },
     "execution_count": 35,
     "metadata": {},
     "output_type": "execute_result"
    }
   ],
   "source": [
    "# print the first 5 rows of the dataframe\n",
    "df.head(5)"
   ]
  },
  {
   "cell_type": "code",
   "execution_count": 36,
   "metadata": {},
   "outputs": [
    {
     "data": {
      "text/plain": [
       "[('the', 177529),\n",
       " ('to', 117605),\n",
       " ('a', 98112),\n",
       " ('of', 97395),\n",
       " ('in', 92055),\n",
       " ('and', 68046),\n",
       " ('on', 55156),\n",
       " ('for', 48430),\n",
       " ('-', 39105),\n",
       " ('#39;s', 30928)]"
      ]
     },
     "execution_count": 36,
     "metadata": {},
     "output_type": "execute_result"
    }
   ],
   "source": [
    "from collections import Counter\n",
    "cnt = Counter()\n",
    "for text in df['text'].values:\n",
    "    for word in text.split():\n",
    "        cnt[word] += 1\n",
    "cnt.most_common(10)"
   ]
  },
  {
   "cell_type": "markdown",
   "metadata": {},
   "source": [
    "<!-- DATA DESCRIPTION -->"
   ]
  },
  {
   "cell_type": "code",
   "execution_count": 37,
   "metadata": {},
   "outputs": [
    {
     "name": "stdout",
     "output_type": "stream",
     "text": [
      "<class 'pandas.core.frame.DataFrame'>\n",
      "RangeIndex: 120000 entries, 0 to 119999\n",
      "Data columns (total 2 columns):\n",
      " #   Column  Non-Null Count   Dtype \n",
      "---  ------  --------------   ----- \n",
      " 0   text    120000 non-null  object\n",
      " 1   label   120000 non-null  int64 \n",
      "dtypes: int64(1), object(1)\n",
      "memory usage: 1.8+ MB\n"
     ]
    }
   ],
   "source": [
    "df.info()"
   ]
  },
  {
   "cell_type": "markdown",
   "metadata": {},
   "source": [
    "<!-- No need for type conversion as the data is already in the required format. -->"
   ]
  },
  {
   "cell_type": "code",
   "execution_count": 38,
   "metadata": {},
   "outputs": [
    {
     "data": {
      "text/plain": [
       "text     0\n",
       "label    0\n",
       "dtype: int64"
      ]
     },
     "execution_count": 38,
     "metadata": {},
     "output_type": "execute_result"
    }
   ],
   "source": [
    "# check for missing values\n",
    "df.isnull().sum()"
   ]
  },
  {
   "cell_type": "code",
   "execution_count": 39,
   "metadata": {},
   "outputs": [
    {
     "data": {
      "text/plain": [
       "text     0\n",
       "label    0\n",
       "dtype: int64"
      ]
     },
     "execution_count": 39,
     "metadata": {},
     "output_type": "execute_result"
    }
   ],
   "source": [
    "# crosscheck by checking for empty strings\n",
    "(df == '').sum()"
   ]
  },
  {
   "cell_type": "code",
   "execution_count": 40,
   "metadata": {},
   "outputs": [
    {
     "data": {
      "text/plain": [
       "label\n",
       "2    30000\n",
       "3    30000\n",
       "1    30000\n",
       "0    30000\n",
       "Name: count, dtype: int64"
      ]
     },
     "execution_count": 40,
     "metadata": {},
     "output_type": "execute_result"
    }
   ],
   "source": [
    "df['label'].value_counts()"
   ]
  },
  {
   "cell_type": "code",
   "execution_count": 41,
   "metadata": {},
   "outputs": [
    {
     "name": "stdout",
     "output_type": "stream",
     "text": [
      "37.84745\n"
     ]
    }
   ],
   "source": [
    "# get mean length of text\n",
    "print(df['text'].str.split().apply(len).mean())"
   ]
  },
  {
   "cell_type": "markdown",
   "metadata": {},
   "source": [
    "<!-- The data is evenly distributed between the classes. This is a positive point as the model will not be biased towards any class. -->"
   ]
  },
  {
   "cell_type": "code",
   "execution_count": 42,
   "metadata": {},
   "outputs": [
    {
     "data": {
      "image/png": "[encoded data removed]",
      "text/plain": [
       "<Figure size 1200x600 with 1 Axes>"
      ]
     },
     "metadata": {},
     "output_type": "display_data"
    }
   ],
   "source": [
    "class_distribution = df['label'].value_counts()\n",
    "\n",
    "plt.figure(figsize=(12, 6))\n",
    "sns.barplot(x=class_distribution.index, y=class_distribution.values)\n",
    "plt.title('Class Distribution')\n",
    "\n",
    "plt.show()"
   ]
  },
  {
   "cell_type": "markdown",
   "metadata": {},
   "source": [
    "## Representation Learning\n",
    "The representation learning approach used in this project involves converting the text in the title column into numerical representations that capture the meaning and relationships between words. To achieve this, GloVe embeddings were used as the main method. GloVe creates a dense vector for each word based on how often it appears alongside other words in large amounts of text. This helps the model understand how words are related to each other.\n",
    "\n",
    "In cases where GloVe did not have a vector for a particular word, FastText embeddings were used instead. Unlike GloVe, FastText breaks words into smaller parts, which means it can create representations even for words it has never seen before by using patterns within the word itself. This fallback ensures that all words in the dataset, even rare ones, are represented.\n",
    "\n",
    "By combining GloVe and FastText, this approach makes sure that most of the words in the text are covered. If GloVe and FastText are still unable to capture the words, a dense vector full of 0’s are created for that word.* This allows the model to understand both the overall meaning of words which helps improve the accuracy of the classification task."
   ]
  },
  {
   "cell_type": "code",
   "execution_count": 43,
   "metadata": {},
   "outputs": [],
   "source": [
    "# import libraries for text preprocessing\n",
    "import re\n",
    "import string\n",
    "import numpy as np\n",
    "import nltk\n",
    "from tqdm import tqdm\n",
    "from nltk.corpus import stopwords\n",
    "from nltk.tokenize import word_tokenize\n",
    "from nltk.stem import WordNetLemmatizer"
   ]
  },
  {
   "cell_type": "markdown",
   "metadata": {},
   "source": [
    "<!-- Lematization over Stemming: Lemmatization is preferred over stemming as it converts the word into its root form based on the dictionary. This helps in maintaining the context of the sentence especially in the case of this dataset where the text is news headlines. Needing the context of the sentence is important to understand the news headline.  -->"
   ]
  },
  {
   "cell_type": "code",
   "execution_count": 44,
   "metadata": {},
   "outputs": [
    {
     "data": {
      "text/plain": [
       "True"
      ]
     },
     "execution_count": 44,
     "metadata": {},
     "output_type": "execute_result"
    }
   ],
   "source": [
    "nltk.download(\"punkt\", quiet=True)\n",
    "nltk.download(\"punkt_tab\", quiet=True)\n",
    "nltk.download(\"stopwords\", quiet=True)\n",
    "nltk.download(\"wordnet\", quiet=True)"
   ]
  },
  {
   "cell_type": "code",
   "execution_count": 45,
   "metadata": {},
   "outputs": [],
   "source": [
    "def text_preprocess(text):\n",
    "    \"\"\"\n",
    "    Preprocesses the input text by applying:\n",
    "    - Lowercasing\n",
    "    - Removing numbers and special characters\n",
    "    - Tokenizing and lemmatizing\n",
    "    - Removing stopwords and short words\n",
    "    \n",
    "    Args:\n",
    "        text (str): The input text string.\n",
    "\n",
    "    Returns:\n",
    "        str: The cleaned and processed text.\n",
    "    \"\"\"\n",
    "    # Lowercase the text\n",
    "    text = text.lower()\n",
    "    # Remove numbers, special characters, and hyphens; replace with spaces\n",
    "    text = re.sub(r'[^a-z\\s]', '', text)\n",
    "    # Remove extra spaces\n",
    "    text = re.sub(r'\\s+', ' ', text).strip()\n",
    "    # Remove short words (1-2 characters)\n",
    "    text = re.sub(r'\\b\\w{1,2}\\b', '', text).strip()\n",
    "    \n",
    "    # Tokenize and lemmatize, excluding stopwords\n",
    "    stop_words = set(stopwords.words('english'))\n",
    "    tokens = word_tokenize(text)\n",
    "    lemmatizer = WordNetLemmatizer()\n",
    "    processed_tokens = [lemmatizer.lemmatize(word) for word in tokens if word not in stop_words]\n",
    "    \n",
    "    # Join tokens back into a single string\n",
    "    return ' '.join(processed_tokens)"
   ]
  },
  {
   "cell_type": "code",
   "execution_count": 46,
   "metadata": {},
   "outputs": [],
   "source": [
    "# batching to speed up the process\n",
    "def batch_preprocess(data, batch_size=1000):\n",
    "    \"\"\"\n",
    "    Preprocess a large dataset in batches.\n",
    "\n",
    "    Parameters:\n",
    "        data (iterable): List or Series of text data.\n",
    "        batch_size (int): Size of each batch for processing.\n",
    "\n",
    "    Returns:\n",
    "        List of preprocessed texts.\n",
    "    \"\"\"\n",
    "    preprocessed_data = []\n",
    "    num_batches = len(data) // batch_size + 1\n",
    "    \n",
    "    for i in tqdm(range(num_batches), desc=\"Processing Batches\"):\n",
    "        batch = data[i * batch_size:(i + 1) * batch_size]\n",
    "        preprocessed_batch = [text_preprocess(text) for text in batch]\n",
    "        preprocessed_data.extend(preprocessed_batch)\n",
    "    \n",
    "    return preprocessed_data"
   ]
  },
  {
   "cell_type": "code",
   "execution_count": 47,
   "metadata": {},
   "outputs": [
    {
     "name": "stderr",
     "output_type": "stream",
     "text": [
      "Processing Batches: 100%|██████████| 121/121 [01:25<00:00,  1.41it/s]\n"
     ]
    }
   ],
   "source": [
    "X_train = batch_preprocess(df['text'])\n",
    "y_train = df['label']"
   ]
  },
  {
   "cell_type": "code",
   "execution_count": 48,
   "metadata": {},
   "outputs": [
    {
     "name": "stderr",
     "output_type": "stream",
     "text": [
      "Processing Batches: 100%|██████████| 8/8 [00:08<00:00,  1.05s/it]\n"
     ]
    }
   ],
   "source": [
    "X_test = batch_preprocess(df_test['text'])\n",
    "y_test = df_test['label']"
   ]
  },
  {
   "cell_type": "code",
   "execution_count": 49,
   "metadata": {},
   "outputs": [
    {
     "name": "stdout",
     "output_type": "stream",
     "text": [
      "Before Preprocessing: Wall St. Bears Claw Back Into the Black (Reuters) Reuters - Short-sellers, Wall Street's dwindling\\band of ultra-cynics, are seeing green again.\n",
      "After Preprocessing: wall bear claw back black reuters reuters shortsellers wall street dwindlingband ultracynics seeing green\n"
     ]
    }
   ],
   "source": [
    "# print before and after preprocessing\n",
    "print(\"Before Preprocessing:\", df['text'][0])\n",
    "print(\"After Preprocessing:\", X_train[0])\n"
   ]
  },
  {
   "cell_type": "code",
   "execution_count": 50,
   "metadata": {},
   "outputs": [
    {
     "data": {
      "text/plain": [
       "[('new', 21223),\n",
       " ('said', 19995),\n",
       " ('reuters', 17243),\n",
       " ('year', 11520),\n",
       " ('company', 10052),\n",
       " ('first', 9048),\n",
       " ('two', 8926),\n",
       " ('world', 8637),\n",
       " ('say', 7671),\n",
       " ('game', 7552)]"
      ]
     },
     "execution_count": 50,
     "metadata": {},
     "output_type": "execute_result"
    }
   ],
   "source": [
    "# count most common after preprocessing\n",
    "cnt = Counter()\n",
    "for text in X_train:\n",
    "    for word in text.split():\n",
    "        cnt[word] += 1\n",
    "\n",
    "cnt.most_common(10)"
   ]
  },
  {
   "cell_type": "code",
   "execution_count": 51,
   "metadata": {},
   "outputs": [
    {
     "data": {
      "text/plain": [
       "['wall bear claw back black reuters reuters shortsellers wall street dwindlingband ultracynics seeing green',\n",
       " 'carlyle look toward commercial aerospace reuters reuters private investment firm carlyle groupwhich reputation making welltimed occasionallycontroversial play defense industry quietly placedits bet another part market',\n",
       " 'oil economy cloud stock outlook reuters reuters soaring crude price plus worriesabout economy outlook earnings expected tohang stock market next week depth thesummer doldrums',\n",
       " 'iraq halt oil export main southern pipeline reuters reuters authority halted oil exportflows main pipeline southern iraq afterintelligence showed rebel militia could strikeinfrastructure oil official said saturday',\n",
       " 'oil price soar alltime record posing new menace economy afp afp tearaway world oil price toppling record straining wallet present new economic menace barely three month presidential election']"
      ]
     },
     "execution_count": 51,
     "metadata": {},
     "output_type": "execute_result"
    }
   ],
   "source": [
    "# find first 5 lines where top 10 words are present\n",
    "top_10_words = [word for word, _ in cnt.most_common(10)]\n",
    "lines_with_top_10_words = []\n",
    "\n",
    "for line in X_train:\n",
    "    if any(word in line for word in top_10_words):\n",
    "        lines_with_top_10_words.append(line)\n",
    "    if len(lines_with_top_10_words) == 5:\n",
    "        break\n",
    "\n",
    "lines_with_top_10_words"
   ]
  },
  {
   "cell_type": "code",
   "execution_count": 52,
   "metadata": {},
   "outputs": [],
   "source": [
    "import gensim.downloader as api"
   ]
  },
  {
   "cell_type": "code",
   "execution_count": 53,
   "metadata": {},
   "outputs": [],
   "source": [
    "if 'glove_model' not in globals():\n",
    "    glove_model = api.load(\"glove-wiki-gigaword-100\")"
   ]
  },
  {
   "cell_type": "code",
   "execution_count": 54,
   "metadata": {},
   "outputs": [],
   "source": [
    "if 'fasttext_model' not in globals():\n",
    "    fasttext_model = api.load(\"fasttext-wiki-news-subwords-300\")"
   ]
  },
  {
   "cell_type": "code",
   "execution_count": 55,
   "metadata": {},
   "outputs": [],
   "source": [
    "def text_to_glove(text, glove_model, fasttext_model, embedding_dim=100):\n",
    "    \"\"\"\n",
    "    Convert text to GloVe/FastText embeddings with fallback to zeros for OOV tokens.\n",
    "    \"\"\"\n",
    "    tokens = word_tokenize(text.lower())\n",
    "    vectors = []\n",
    "\n",
    "    for token in tokens:\n",
    "        if token in glove_model:\n",
    "            vectors.append(glove_model[token])  # Get the GloVe vector\n",
    "        elif token in fasttext_model:\n",
    "            vectors.append(fasttext_model[token][:embedding_dim])  # Get the FastText vector\n",
    "        else:\n",
    "            vectors.append(np.zeros(embedding_dim))  # If not found, use zeros\n",
    "\n",
    "    # Pool vectors to represent the entire text (mean pooling)\n",
    "    if vectors:\n",
    "        return np.mean(vectors, axis=0)\n",
    "    else:\n",
    "        return np.zeros(embedding_dim)\n"
   ]
  },
  {
   "cell_type": "code",
   "execution_count": 56,
   "metadata": {},
   "outputs": [],
   "source": [
    "X_train_glove = np.array([text_to_glove(text, glove_model, fasttext_model) for text in X_train])"
   ]
  },
  {
   "cell_type": "code",
   "execution_count": 57,
   "metadata": {},
   "outputs": [],
   "source": [
    "X_test_glove = np.array([text_to_glove(text, glove_model, fasttext_model) for text in X_test])"
   ]
  },
  {
   "cell_type": "code",
   "execution_count": 58,
   "metadata": {},
   "outputs": [
    {
     "name": "stdout",
     "output_type": "stream",
     "text": [
      "Shape of the GloVe vectors: (120000, 100)\n"
     ]
    }
   ],
   "source": [
    "print(\"Shape of the GloVe vectors:\", X_train_glove.shape)"
   ]
  },
  {
   "cell_type": "markdown",
   "metadata": {},
   "source": [
    "## Algorithms\n",
    "This project applies two algorithms to classify news article titles from the AG News dataset into four categories: World, Sports, Business, and Technology. The machine learning algorithms used are a multi-layer perceptron (MLP) and a random forest classifier. These two methods represent different approaches to classification, and the aim is to compare their effectiveness for this task, which involves short and concise text data.\n",
    "\n",
    "### Multi-Layer Perceptron (MLP)\n",
    "A multi-layer perceptron is a type of model that processes data through several layers to learn patterns and relationships. It is designed to handle tasks where the data is complex or requires identifying non-linear relationships. In this project, the MLP uses word embeddings, which are numerical representations of words created using GloVe and FastText. \n",
    "The MLP consists of three parts:\n",
    "+ **Input Layer**: This is where the word embeddings for the news titles are fed into the model. Each title is represented as a numerical vector, combining the embeddings for its words.\n",
    "+ **Hidden Layers**: These layers process the input data, applying transformations that allow the model to recognise patterns. Each layer uses weights and biases to determine how strongly different parts of the data are connected.\n",
    "+ **Output Layer**: This layer produces the final predictions. It has four outputs, one for each category, and chooses the category with the highest score as the predicted label.\n",
    "The MLP is trained using a process that compares its predictions to the correct answers and adjusts the connections within the model to improve accuracy. By repeatedly doing this, the MLP learns how to classify titles based on their word representations. This approach is particularly effective for this project because it uses word embeddings that capture the relationships between words in a meaningful way.\n",
    "\n",
    "### Random Forest Classifier\n",
    "Random Forest Classifier\n",
    "The Random Forest Classifier is a method that uses multiple decision trees to make predictions. Each tree splits the data into groups based on specific features, and the overall prediction is made by combining the results from all the trees. This method is straightforward and works well with structured data.\n",
    "\n",
    "This method has the many advantages. Using K-Folds cross-validation with the Random Forest Classifier leads to more dependable predictions. It ensures that the model learns well from the training data while also performing consistently on new data to reduce overfitting. This combination is particularly effective for structured datasets, where the decision trees can take advantage of the underlying patterns, resulting in better accuracy overall.\n",
    "\n",
    "K-Folds cross-validation is a technique that can improve the evaluation of the Random Forest Classifier. It splits the dataset into K folds. The model is trained on K-1 of these folds and tested on the remaining fold. This process is repeated K times, with each fold being used as the test set once. The final performance metric is usually the average of the results from all iterations."
   ]
  },
  {
   "cell_type": "code",
   "execution_count": 59,
   "metadata": {},
   "outputs": [],
   "source": [
    "from sklearn.neural_network import MLPClassifier\n",
    "from sklearn.metrics import classification_report, accuracy_score"
   ]
  },
  {
   "cell_type": "code",
   "execution_count": 60,
   "metadata": {},
   "outputs": [
    {
     "data": {
      "text/html": [
       "<style>#sk-container-id-1 {\n",
       "  /* Definition of color scheme common for light and dark mode */\n",
       "  --sklearn-color-text: black;\n",
       "  --sklearn-color-line: gray;\n",
       "  /* Definition of color scheme for unfitted estimators */\n",
       "  --sklearn-color-unfitted-level-0: #fff5e6;\n",
       "  --sklearn-color-unfitted-level-1: #f6e4d2;\n",
       "  --sklearn-color-unfitted-level-2: #ffe0b3;\n",
       "  --sklearn-color-unfitted-level-3: chocolate;\n",
       "  /* Definition of color scheme for fitted estimators */\n",
       "  --sklearn-color-fitted-level-0: #f0f8ff;\n",
       "  --sklearn-color-fitted-level-1: #d4ebff;\n",
       "  --sklearn-color-fitted-level-2: #b3dbfd;\n",
       "  --sklearn-color-fitted-level-3: cornflowerblue;\n",
       "\n",
       "  /* Specific color for light theme */\n",
       "  --sklearn-color-text-on-default-background: var(--sg-text-color, var(--theme-code-foreground, var(--jp-content-font-color1, black)));\n",
       "  --sklearn-color-background: var(--sg-background-color, var(--theme-background, var(--jp-layout-color0, white)));\n",
       "  --sklearn-color-border-box: var(--sg-text-color, var(--theme-code-foreground, var(--jp-content-font-color1, black)));\n",
       "  --sklearn-color-icon: #696969;\n",
       "\n",
       "  @media (prefers-color-scheme: dark) {\n",
       "    /* Redefinition of color scheme for dark theme */\n",
       "    --sklearn-color-text-on-default-background: var(--sg-text-color, var(--theme-code-foreground, var(--jp-content-font-color1, white)));\n",
       "    --sklearn-color-background: var(--sg-background-color, var(--theme-background, var(--jp-layout-color0, #111)));\n",
       "    --sklearn-color-border-box: var(--sg-text-color, var(--theme-code-foreground, var(--jp-content-font-color1, white)));\n",
       "    --sklearn-color-icon: #878787;\n",
       "  }\n",
       "}\n",
       "\n",
       "#sk-container-id-1 {\n",
       "  color: var(--sklearn-color-text);\n",
       "}\n",
       "\n",
       "#sk-container-id-1 pre {\n",
       "  padding: 0;\n",
       "}\n",
       "\n",
       "#sk-container-id-1 input.sk-hidden--visually {\n",
       "  border: 0;\n",
       "  clip: rect(1px 1px 1px 1px);\n",
       "  clip: rect(1px, 1px, 1px, 1px);\n",
       "  height: 1px;\n",
       "  margin: -1px;\n",
       "  overflow: hidden;\n",
       "  padding: 0;\n",
       "  position: absolute;\n",
       "  width: 1px;\n",
       "}\n",
       "\n",
       "#sk-container-id-1 div.sk-dashed-wrapped {\n",
       "  border: 1px dashed var(--sklearn-color-line);\n",
       "  margin: 0 0.4em 0.5em 0.4em;\n",
       "  box-sizing: border-box;\n",
       "  padding-bottom: 0.4em;\n",
       "  background-color: var(--sklearn-color-background);\n",
       "}\n",
       "\n",
       "#sk-container-id-1 div.sk-container {\n",
       "  /* jupyter's `normalize.less` sets `[hidden] { display: none; }`\n",
       "     but bootstrap.min.css set `[hidden] { display: none !important; }`\n",
       "     so we also need the `!important` here to be able to override the\n",
       "     default hidden behavior on the sphinx rendered scikit-learn.org.\n",
       "     See: https://github.com/scikit-learn/scikit-learn/issues/21755 */\n",
       "  display: inline-block !important;\n",
       "  position: relative;\n",
       "}\n",
       "\n",
       "#sk-container-id-1 div.sk-text-repr-fallback {\n",
       "  display: none;\n",
       "}\n",
       "\n",
       "div.sk-parallel-item,\n",
       "div.sk-serial,\n",
       "div.sk-item {\n",
       "  /* draw centered vertical line to link estimators */\n",
       "  background-image: linear-gradient(var(--sklearn-color-text-on-default-background), var(--sklearn-color-text-on-default-background));\n",
       "  background-size: 2px 100%;\n",
       "  background-repeat: no-repeat;\n",
       "  background-position: center center;\n",
       "}\n",
       "\n",
       "/* Parallel-specific style estimator block */\n",
       "\n",
       "#sk-container-id-1 div.sk-parallel-item::after {\n",
       "  content: \"\";\n",
       "  width: 100%;\n",
       "  border-bottom: 2px solid var(--sklearn-color-text-on-default-background);\n",
       "  flex-grow: 1;\n",
       "}\n",
       "\n",
       "#sk-container-id-1 div.sk-parallel {\n",
       "  display: flex;\n",
       "  align-items: stretch;\n",
       "  justify-content: center;\n",
       "  background-color: var(--sklearn-color-background);\n",
       "  position: relative;\n",
       "}\n",
       "\n",
       "#sk-container-id-1 div.sk-parallel-item {\n",
       "  display: flex;\n",
       "  flex-direction: column;\n",
       "}\n",
       "\n",
       "#sk-container-id-1 div.sk-parallel-item:first-child::after {\n",
       "  align-self: flex-end;\n",
       "  width: 50%;\n",
       "}\n",
       "\n",
       "#sk-container-id-1 div.sk-parallel-item:last-child::after {\n",
       "  align-self: flex-start;\n",
       "  width: 50%;\n",
       "}\n",
       "\n",
       "#sk-container-id-1 div.sk-parallel-item:only-child::after {\n",
       "  width: 0;\n",
       "}\n",
       "\n",
       "/* Serial-specific style estimator block */\n",
       "\n",
       "#sk-container-id-1 div.sk-serial {\n",
       "  display: flex;\n",
       "  flex-direction: column;\n",
       "  align-items: center;\n",
       "  background-color: var(--sklearn-color-background);\n",
       "  padding-right: 1em;\n",
       "  padding-left: 1em;\n",
       "}\n",
       "\n",
       "\n",
       "/* Toggleable style: style used for estimator/Pipeline/ColumnTransformer box that is\n",
       "clickable and can be expanded/collapsed.\n",
       "- Pipeline and ColumnTransformer use this feature and define the default style\n",
       "- Estimators will overwrite some part of the style using the `sk-estimator` class\n",
       "*/\n",
       "\n",
       "/* Pipeline and ColumnTransformer style (default) */\n",
       "\n",
       "#sk-container-id-1 div.sk-toggleable {\n",
       "  /* Default theme specific background. It is overwritten whether we have a\n",
       "  specific estimator or a Pipeline/ColumnTransformer */\n",
       "  background-color: var(--sklearn-color-background);\n",
       "}\n",
       "\n",
       "/* Toggleable label */\n",
       "#sk-container-id-1 label.sk-toggleable__label {\n",
       "  cursor: pointer;\n",
       "  display: block;\n",
       "  width: 100%;\n",
       "  margin-bottom: 0;\n",
       "  padding: 0.5em;\n",
       "  box-sizing: border-box;\n",
       "  text-align: center;\n",
       "}\n",
       "\n",
       "#sk-container-id-1 label.sk-toggleable__label-arrow:before {\n",
       "  /* Arrow on the left of the label */\n",
       "  content: \"▸\";\n",
       "  float: left;\n",
       "  margin-right: 0.25em;\n",
       "  color: var(--sklearn-color-icon);\n",
       "}\n",
       "\n",
       "#sk-container-id-1 label.sk-toggleable__label-arrow:hover:before {\n",
       "  color: var(--sklearn-color-text);\n",
       "}\n",
       "\n",
       "/* Toggleable content - dropdown */\n",
       "\n",
       "#sk-container-id-1 div.sk-toggleable__content {\n",
       "  max-height: 0;\n",
       "  max-width: 0;\n",
       "  overflow: hidden;\n",
       "  text-align: left;\n",
       "  /* unfitted */\n",
       "  background-color: var(--sklearn-color-unfitted-level-0);\n",
       "}\n",
       "\n",
       "#sk-container-id-1 div.sk-toggleable__content.fitted {\n",
       "  /* fitted */\n",
       "  background-color: var(--sklearn-color-fitted-level-0);\n",
       "}\n",
       "\n",
       "#sk-container-id-1 div.sk-toggleable__content pre {\n",
       "  margin: 0.2em;\n",
       "  border-radius: 0.25em;\n",
       "  color: var(--sklearn-color-text);\n",
       "  /* unfitted */\n",
       "  background-color: var(--sklearn-color-unfitted-level-0);\n",
       "}\n",
       "\n",
       "#sk-container-id-1 div.sk-toggleable__content.fitted pre {\n",
       "  /* unfitted */\n",
       "  background-color: var(--sklearn-color-fitted-level-0);\n",
       "}\n",
       "\n",
       "#sk-container-id-1 input.sk-toggleable__control:checked~div.sk-toggleable__content {\n",
       "  /* Expand drop-down */\n",
       "  max-height: 200px;\n",
       "  max-width: 100%;\n",
       "  overflow: auto;\n",
       "}\n",
       "\n",
       "#sk-container-id-1 input.sk-toggleable__control:checked~label.sk-toggleable__label-arrow:before {\n",
       "  content: \"▾\";\n",
       "}\n",
       "\n",
       "/* Pipeline/ColumnTransformer-specific style */\n",
       "\n",
       "#sk-container-id-1 div.sk-label input.sk-toggleable__control:checked~label.sk-toggleable__label {\n",
       "  color: var(--sklearn-color-text);\n",
       "  background-color: var(--sklearn-color-unfitted-level-2);\n",
       "}\n",
       "\n",
       "#sk-container-id-1 div.sk-label.fitted input.sk-toggleable__control:checked~label.sk-toggleable__label {\n",
       "  background-color: var(--sklearn-color-fitted-level-2);\n",
       "}\n",
       "\n",
       "/* Estimator-specific style */\n",
       "\n",
       "/* Colorize estimator box */\n",
       "#sk-container-id-1 div.sk-estimator input.sk-toggleable__control:checked~label.sk-toggleable__label {\n",
       "  /* unfitted */\n",
       "  background-color: var(--sklearn-color-unfitted-level-2);\n",
       "}\n",
       "\n",
       "#sk-container-id-1 div.sk-estimator.fitted input.sk-toggleable__control:checked~label.sk-toggleable__label {\n",
       "  /* fitted */\n",
       "  background-color: var(--sklearn-color-fitted-level-2);\n",
       "}\n",
       "\n",
       "#sk-container-id-1 div.sk-label label.sk-toggleable__label,\n",
       "#sk-container-id-1 div.sk-label label {\n",
       "  /* The background is the default theme color */\n",
       "  color: var(--sklearn-color-text-on-default-background);\n",
       "}\n",
       "\n",
       "/* On hover, darken the color of the background */\n",
       "#sk-container-id-1 div.sk-label:hover label.sk-toggleable__label {\n",
       "  color: var(--sklearn-color-text);\n",
       "  background-color: var(--sklearn-color-unfitted-level-2);\n",
       "}\n",
       "\n",
       "/* Label box, darken color on hover, fitted */\n",
       "#sk-container-id-1 div.sk-label.fitted:hover label.sk-toggleable__label.fitted {\n",
       "  color: var(--sklearn-color-text);\n",
       "  background-color: var(--sklearn-color-fitted-level-2);\n",
       "}\n",
       "\n",
       "/* Estimator label */\n",
       "\n",
       "#sk-container-id-1 div.sk-label label {\n",
       "  font-family: monospace;\n",
       "  font-weight: bold;\n",
       "  display: inline-block;\n",
       "  line-height: 1.2em;\n",
       "}\n",
       "\n",
       "#sk-container-id-1 div.sk-label-container {\n",
       "  text-align: center;\n",
       "}\n",
       "\n",
       "/* Estimator-specific */\n",
       "#sk-container-id-1 div.sk-estimator {\n",
       "  font-family: monospace;\n",
       "  border: 1px dotted var(--sklearn-color-border-box);\n",
       "  border-radius: 0.25em;\n",
       "  box-sizing: border-box;\n",
       "  margin-bottom: 0.5em;\n",
       "  /* unfitted */\n",
       "  background-color: var(--sklearn-color-unfitted-level-0);\n",
       "}\n",
       "\n",
       "#sk-container-id-1 div.sk-estimator.fitted {\n",
       "  /* fitted */\n",
       "  background-color: var(--sklearn-color-fitted-level-0);\n",
       "}\n",
       "\n",
       "/* on hover */\n",
       "#sk-container-id-1 div.sk-estimator:hover {\n",
       "  /* unfitted */\n",
       "  background-color: var(--sklearn-color-unfitted-level-2);\n",
       "}\n",
       "\n",
       "#sk-container-id-1 div.sk-estimator.fitted:hover {\n",
       "  /* fitted */\n",
       "  background-color: var(--sklearn-color-fitted-level-2);\n",
       "}\n",
       "\n",
       "/* Specification for estimator info (e.g. \"i\" and \"?\") */\n",
       "\n",
       "/* Common style for \"i\" and \"?\" */\n",
       "\n",
       ".sk-estimator-doc-link,\n",
       "a:link.sk-estimator-doc-link,\n",
       "a:visited.sk-estimator-doc-link {\n",
       "  float: right;\n",
       "  font-size: smaller;\n",
       "  line-height: 1em;\n",
       "  font-family: monospace;\n",
       "  background-color: var(--sklearn-color-background);\n",
       "  border-radius: 1em;\n",
       "  height: 1em;\n",
       "  width: 1em;\n",
       "  text-decoration: none !important;\n",
       "  margin-left: 1ex;\n",
       "  /* unfitted */\n",
       "  border: var(--sklearn-color-unfitted-level-1) 1pt solid;\n",
       "  color: var(--sklearn-color-unfitted-level-1);\n",
       "}\n",
       "\n",
       ".sk-estimator-doc-link.fitted,\n",
       "a:link.sk-estimator-doc-link.fitted,\n",
       "a:visited.sk-estimator-doc-link.fitted {\n",
       "  /* fitted */\n",
       "  border: var(--sklearn-color-fitted-level-1) 1pt solid;\n",
       "  color: var(--sklearn-color-fitted-level-1);\n",
       "}\n",
       "\n",
       "/* On hover */\n",
       "div.sk-estimator:hover .sk-estimator-doc-link:hover,\n",
       ".sk-estimator-doc-link:hover,\n",
       "div.sk-label-container:hover .sk-estimator-doc-link:hover,\n",
       ".sk-estimator-doc-link:hover {\n",
       "  /* unfitted */\n",
       "  background-color: var(--sklearn-color-unfitted-level-3);\n",
       "  color: var(--sklearn-color-background);\n",
       "  text-decoration: none;\n",
       "}\n",
       "\n",
       "div.sk-estimator.fitted:hover .sk-estimator-doc-link.fitted:hover,\n",
       ".sk-estimator-doc-link.fitted:hover,\n",
       "div.sk-label-container:hover .sk-estimator-doc-link.fitted:hover,\n",
       ".sk-estimator-doc-link.fitted:hover {\n",
       "  /* fitted */\n",
       "  background-color: var(--sklearn-color-fitted-level-3);\n",
       "  color: var(--sklearn-color-background);\n",
       "  text-decoration: none;\n",
       "}\n",
       "\n",
       "/* Span, style for the box shown on hovering the info icon */\n",
       ".sk-estimator-doc-link span {\n",
       "  display: none;\n",
       "  z-index: 9999;\n",
       "  position: relative;\n",
       "  font-weight: normal;\n",
       "  right: .2ex;\n",
       "  padding: .5ex;\n",
       "  margin: .5ex;\n",
       "  width: min-content;\n",
       "  min-width: 20ex;\n",
       "  max-width: 50ex;\n",
       "  color: var(--sklearn-color-text);\n",
       "  box-shadow: 2pt 2pt 4pt #999;\n",
       "  /* unfitted */\n",
       "  background: var(--sklearn-color-unfitted-level-0);\n",
       "  border: .5pt solid var(--sklearn-color-unfitted-level-3);\n",
       "}\n",
       "\n",
       ".sk-estimator-doc-link.fitted span {\n",
       "  /* fitted */\n",
       "  background: var(--sklearn-color-fitted-level-0);\n",
       "  border: var(--sklearn-color-fitted-level-3);\n",
       "}\n",
       "\n",
       ".sk-estimator-doc-link:hover span {\n",
       "  display: block;\n",
       "}\n",
       "\n",
       "/* \"?\"-specific style due to the `<a>` HTML tag */\n",
       "\n",
       "#sk-container-id-1 a.estimator_doc_link {\n",
       "  float: right;\n",
       "  font-size: 1rem;\n",
       "  line-height: 1em;\n",
       "  font-family: monospace;\n",
       "  background-color: var(--sklearn-color-background);\n",
       "  border-radius: 1rem;\n",
       "  height: 1rem;\n",
       "  width: 1rem;\n",
       "  text-decoration: none;\n",
       "  /* unfitted */\n",
       "  color: var(--sklearn-color-unfitted-level-1);\n",
       "  border: var(--sklearn-color-unfitted-level-1) 1pt solid;\n",
       "}\n",
       "\n",
       "#sk-container-id-1 a.estimator_doc_link.fitted {\n",
       "  /* fitted */\n",
       "  border: var(--sklearn-color-fitted-level-1) 1pt solid;\n",
       "  color: var(--sklearn-color-fitted-level-1);\n",
       "}\n",
       "\n",
       "/* On hover */\n",
       "#sk-container-id-1 a.estimator_doc_link:hover {\n",
       "  /* unfitted */\n",
       "  background-color: var(--sklearn-color-unfitted-level-3);\n",
       "  color: var(--sklearn-color-background);\n",
       "  text-decoration: none;\n",
       "}\n",
       "\n",
       "#sk-container-id-1 a.estimator_doc_link.fitted:hover {\n",
       "  /* fitted */\n",
       "  background-color: var(--sklearn-color-fitted-level-3);\n",
       "}\n",
       "</style><div id=\"sk-container-id-1\" class=\"sk-top-container\"><div class=\"sk-text-repr-fallback\"><pre>MLPClassifier(early_stopping=True, hidden_layer_sizes=(256, 128), max_iter=100)</pre><b>In a Jupyter environment, please rerun this cell to show the HTML representation or trust the notebook. <br />On GitHub, the HTML representation is unable to render, please try loading this page with nbviewer.org.</b></div><div class=\"sk-container\" hidden><div class=\"sk-item\"><div class=\"sk-estimator fitted sk-toggleable\"><input class=\"sk-toggleable__control sk-hidden--visually\" id=\"sk-estimator-id-1\" type=\"checkbox\" checked><label for=\"sk-estimator-id-1\" class=\"sk-toggleable__label fitted sk-toggleable__label-arrow fitted\">&nbsp;&nbsp;MLPClassifier<a class=\"sk-estimator-doc-link fitted\" rel=\"noreferrer\" target=\"_blank\" href=\"https://scikit-learn.org/1.5/modules/generated/sklearn.neural_network.MLPClassifier.html\">?<span>Documentation for MLPClassifier</span></a><span class=\"sk-estimator-doc-link fitted\">i<span>Fitted</span></span></label><div class=\"sk-toggleable__content fitted\"><pre>MLPClassifier(early_stopping=True, hidden_layer_sizes=(256, 128), max_iter=100)</pre></div> </div></div></div></div>"
      ],
      "text/plain": [
       "MLPClassifier(early_stopping=True, hidden_layer_sizes=(256, 128), max_iter=100)"
      ]
     },
     "execution_count": 60,
     "metadata": {},
     "output_type": "execute_result"
    }
   ],
   "source": [
    "# Initialize the MLP classifier\n",
    "mlp = MLPClassifier(hidden_layer_sizes=(256, 128), max_iter=100, early_stopping=True, activation='relu', solver='adam') # adam solver is used for large datasets to avoid overfitting\n",
    "mlp.fit(X_train_glove, y_train)"
   ]
  },
  {
   "cell_type": "code",
   "execution_count": 61,
   "metadata": {},
   "outputs": [],
   "source": [
    "y_pred = mlp.predict(X_test_glove)"
   ]
  },
  {
   "cell_type": "code",
   "execution_count": 62,
   "metadata": {},
   "outputs": [
    {
     "name": "stdout",
     "output_type": "stream",
     "text": [
      "              precision    recall  f1-score   support\n",
      "\n",
      "           0       0.94      0.89      0.91      1900\n",
      "           1       0.94      0.99      0.96      1900\n",
      "           2       0.86      0.87      0.87      1900\n",
      "           3       0.88      0.88      0.88      1900\n",
      "\n",
      "    accuracy                           0.91      7600\n",
      "   macro avg       0.91      0.91      0.91      7600\n",
      "weighted avg       0.91      0.91      0.91      7600\n",
      "\n"
     ]
    }
   ],
   "source": [
    "relu_report = classification_report(y_test, y_pred)\n",
    "print(relu_report)"
   ]
  },
  {
   "cell_type": "code",
   "execution_count": 63,
   "metadata": {},
   "outputs": [
    {
     "data": {
      "text/html": [
       "<style>#sk-container-id-2 {\n",
       "  /* Definition of color scheme common for light and dark mode */\n",
       "  --sklearn-color-text: black;\n",
       "  --sklearn-color-line: gray;\n",
       "  /* Definition of color scheme for unfitted estimators */\n",
       "  --sklearn-color-unfitted-level-0: #fff5e6;\n",
       "  --sklearn-color-unfitted-level-1: #f6e4d2;\n",
       "  --sklearn-color-unfitted-level-2: #ffe0b3;\n",
       "  --sklearn-color-unfitted-level-3: chocolate;\n",
       "  /* Definition of color scheme for fitted estimators */\n",
       "  --sklearn-color-fitted-level-0: #f0f8ff;\n",
       "  --sklearn-color-fitted-level-1: #d4ebff;\n",
       "  --sklearn-color-fitted-level-2: #b3dbfd;\n",
       "  --sklearn-color-fitted-level-3: cornflowerblue;\n",
       "\n",
       "  /* Specific color for light theme */\n",
       "  --sklearn-color-text-on-default-background: var(--sg-text-color, var(--theme-code-foreground, var(--jp-content-font-color1, black)));\n",
       "  --sklearn-color-background: var(--sg-background-color, var(--theme-background, var(--jp-layout-color0, white)));\n",
       "  --sklearn-color-border-box: var(--sg-text-color, var(--theme-code-foreground, var(--jp-content-font-color1, black)));\n",
       "  --sklearn-color-icon: #696969;\n",
       "\n",
       "  @media (prefers-color-scheme: dark) {\n",
       "    /* Redefinition of color scheme for dark theme */\n",
       "    --sklearn-color-text-on-default-background: var(--sg-text-color, var(--theme-code-foreground, var(--jp-content-font-color1, white)));\n",
       "    --sklearn-color-background: var(--sg-background-color, var(--theme-background, var(--jp-layout-color0, #111)));\n",
       "    --sklearn-color-border-box: var(--sg-text-color, var(--theme-code-foreground, var(--jp-content-font-color1, white)));\n",
       "    --sklearn-color-icon: #878787;\n",
       "  }\n",
       "}\n",
       "\n",
       "#sk-container-id-2 {\n",
       "  color: var(--sklearn-color-text);\n",
       "}\n",
       "\n",
       "#sk-container-id-2 pre {\n",
       "  padding: 0;\n",
       "}\n",
       "\n",
       "#sk-container-id-2 input.sk-hidden--visually {\n",
       "  border: 0;\n",
       "  clip: rect(1px 1px 1px 1px);\n",
       "  clip: rect(1px, 1px, 1px, 1px);\n",
       "  height: 1px;\n",
       "  margin: -1px;\n",
       "  overflow: hidden;\n",
       "  padding: 0;\n",
       "  position: absolute;\n",
       "  width: 1px;\n",
       "}\n",
       "\n",
       "#sk-container-id-2 div.sk-dashed-wrapped {\n",
       "  border: 1px dashed var(--sklearn-color-line);\n",
       "  margin: 0 0.4em 0.5em 0.4em;\n",
       "  box-sizing: border-box;\n",
       "  padding-bottom: 0.4em;\n",
       "  background-color: var(--sklearn-color-background);\n",
       "}\n",
       "\n",
       "#sk-container-id-2 div.sk-container {\n",
       "  /* jupyter's `normalize.less` sets `[hidden] { display: none; }`\n",
       "     but bootstrap.min.css set `[hidden] { display: none !important; }`\n",
       "     so we also need the `!important` here to be able to override the\n",
       "     default hidden behavior on the sphinx rendered scikit-learn.org.\n",
       "     See: https://github.com/scikit-learn/scikit-learn/issues/21755 */\n",
       "  display: inline-block !important;\n",
       "  position: relative;\n",
       "}\n",
       "\n",
       "#sk-container-id-2 div.sk-text-repr-fallback {\n",
       "  display: none;\n",
       "}\n",
       "\n",
       "div.sk-parallel-item,\n",
       "div.sk-serial,\n",
       "div.sk-item {\n",
       "  /* draw centered vertical line to link estimators */\n",
       "  background-image: linear-gradient(var(--sklearn-color-text-on-default-background), var(--sklearn-color-text-on-default-background));\n",
       "  background-size: 2px 100%;\n",
       "  background-repeat: no-repeat;\n",
       "  background-position: center center;\n",
       "}\n",
       "\n",
       "/* Parallel-specific style estimator block */\n",
       "\n",
       "#sk-container-id-2 div.sk-parallel-item::after {\n",
       "  content: \"\";\n",
       "  width: 100%;\n",
       "  border-bottom: 2px solid var(--sklearn-color-text-on-default-background);\n",
       "  flex-grow: 1;\n",
       "}\n",
       "\n",
       "#sk-container-id-2 div.sk-parallel {\n",
       "  display: flex;\n",
       "  align-items: stretch;\n",
       "  justify-content: center;\n",
       "  background-color: var(--sklearn-color-background);\n",
       "  position: relative;\n",
       "}\n",
       "\n",
       "#sk-container-id-2 div.sk-parallel-item {\n",
       "  display: flex;\n",
       "  flex-direction: column;\n",
       "}\n",
       "\n",
       "#sk-container-id-2 div.sk-parallel-item:first-child::after {\n",
       "  align-self: flex-end;\n",
       "  width: 50%;\n",
       "}\n",
       "\n",
       "#sk-container-id-2 div.sk-parallel-item:last-child::after {\n",
       "  align-self: flex-start;\n",
       "  width: 50%;\n",
       "}\n",
       "\n",
       "#sk-container-id-2 div.sk-parallel-item:only-child::after {\n",
       "  width: 0;\n",
       "}\n",
       "\n",
       "/* Serial-specific style estimator block */\n",
       "\n",
       "#sk-container-id-2 div.sk-serial {\n",
       "  display: flex;\n",
       "  flex-direction: column;\n",
       "  align-items: center;\n",
       "  background-color: var(--sklearn-color-background);\n",
       "  padding-right: 1em;\n",
       "  padding-left: 1em;\n",
       "}\n",
       "\n",
       "\n",
       "/* Toggleable style: style used for estimator/Pipeline/ColumnTransformer box that is\n",
       "clickable and can be expanded/collapsed.\n",
       "- Pipeline and ColumnTransformer use this feature and define the default style\n",
       "- Estimators will overwrite some part of the style using the `sk-estimator` class\n",
       "*/\n",
       "\n",
       "/* Pipeline and ColumnTransformer style (default) */\n",
       "\n",
       "#sk-container-id-2 div.sk-toggleable {\n",
       "  /* Default theme specific background. It is overwritten whether we have a\n",
       "  specific estimator or a Pipeline/ColumnTransformer */\n",
       "  background-color: var(--sklearn-color-background);\n",
       "}\n",
       "\n",
       "/* Toggleable label */\n",
       "#sk-container-id-2 label.sk-toggleable__label {\n",
       "  cursor: pointer;\n",
       "  display: block;\n",
       "  width: 100%;\n",
       "  margin-bottom: 0;\n",
       "  padding: 0.5em;\n",
       "  box-sizing: border-box;\n",
       "  text-align: center;\n",
       "}\n",
       "\n",
       "#sk-container-id-2 label.sk-toggleable__label-arrow:before {\n",
       "  /* Arrow on the left of the label */\n",
       "  content: \"▸\";\n",
       "  float: left;\n",
       "  margin-right: 0.25em;\n",
       "  color: var(--sklearn-color-icon);\n",
       "}\n",
       "\n",
       "#sk-container-id-2 label.sk-toggleable__label-arrow:hover:before {\n",
       "  color: var(--sklearn-color-text);\n",
       "}\n",
       "\n",
       "/* Toggleable content - dropdown */\n",
       "\n",
       "#sk-container-id-2 div.sk-toggleable__content {\n",
       "  max-height: 0;\n",
       "  max-width: 0;\n",
       "  overflow: hidden;\n",
       "  text-align: left;\n",
       "  /* unfitted */\n",
       "  background-color: var(--sklearn-color-unfitted-level-0);\n",
       "}\n",
       "\n",
       "#sk-container-id-2 div.sk-toggleable__content.fitted {\n",
       "  /* fitted */\n",
       "  background-color: var(--sklearn-color-fitted-level-0);\n",
       "}\n",
       "\n",
       "#sk-container-id-2 div.sk-toggleable__content pre {\n",
       "  margin: 0.2em;\n",
       "  border-radius: 0.25em;\n",
       "  color: var(--sklearn-color-text);\n",
       "  /* unfitted */\n",
       "  background-color: var(--sklearn-color-unfitted-level-0);\n",
       "}\n",
       "\n",
       "#sk-container-id-2 div.sk-toggleable__content.fitted pre {\n",
       "  /* unfitted */\n",
       "  background-color: var(--sklearn-color-fitted-level-0);\n",
       "}\n",
       "\n",
       "#sk-container-id-2 input.sk-toggleable__control:checked~div.sk-toggleable__content {\n",
       "  /* Expand drop-down */\n",
       "  max-height: 200px;\n",
       "  max-width: 100%;\n",
       "  overflow: auto;\n",
       "}\n",
       "\n",
       "#sk-container-id-2 input.sk-toggleable__control:checked~label.sk-toggleable__label-arrow:before {\n",
       "  content: \"▾\";\n",
       "}\n",
       "\n",
       "/* Pipeline/ColumnTransformer-specific style */\n",
       "\n",
       "#sk-container-id-2 div.sk-label input.sk-toggleable__control:checked~label.sk-toggleable__label {\n",
       "  color: var(--sklearn-color-text);\n",
       "  background-color: var(--sklearn-color-unfitted-level-2);\n",
       "}\n",
       "\n",
       "#sk-container-id-2 div.sk-label.fitted input.sk-toggleable__control:checked~label.sk-toggleable__label {\n",
       "  background-color: var(--sklearn-color-fitted-level-2);\n",
       "}\n",
       "\n",
       "/* Estimator-specific style */\n",
       "\n",
       "/* Colorize estimator box */\n",
       "#sk-container-id-2 div.sk-estimator input.sk-toggleable__control:checked~label.sk-toggleable__label {\n",
       "  /* unfitted */\n",
       "  background-color: var(--sklearn-color-unfitted-level-2);\n",
       "}\n",
       "\n",
       "#sk-container-id-2 div.sk-estimator.fitted input.sk-toggleable__control:checked~label.sk-toggleable__label {\n",
       "  /* fitted */\n",
       "  background-color: var(--sklearn-color-fitted-level-2);\n",
       "}\n",
       "\n",
       "#sk-container-id-2 div.sk-label label.sk-toggleable__label,\n",
       "#sk-container-id-2 div.sk-label label {\n",
       "  /* The background is the default theme color */\n",
       "  color: var(--sklearn-color-text-on-default-background);\n",
       "}\n",
       "\n",
       "/* On hover, darken the color of the background */\n",
       "#sk-container-id-2 div.sk-label:hover label.sk-toggleable__label {\n",
       "  color: var(--sklearn-color-text);\n",
       "  background-color: var(--sklearn-color-unfitted-level-2);\n",
       "}\n",
       "\n",
       "/* Label box, darken color on hover, fitted */\n",
       "#sk-container-id-2 div.sk-label.fitted:hover label.sk-toggleable__label.fitted {\n",
       "  color: var(--sklearn-color-text);\n",
       "  background-color: var(--sklearn-color-fitted-level-2);\n",
       "}\n",
       "\n",
       "/* Estimator label */\n",
       "\n",
       "#sk-container-id-2 div.sk-label label {\n",
       "  font-family: monospace;\n",
       "  font-weight: bold;\n",
       "  display: inline-block;\n",
       "  line-height: 1.2em;\n",
       "}\n",
       "\n",
       "#sk-container-id-2 div.sk-label-container {\n",
       "  text-align: center;\n",
       "}\n",
       "\n",
       "/* Estimator-specific */\n",
       "#sk-container-id-2 div.sk-estimator {\n",
       "  font-family: monospace;\n",
       "  border: 1px dotted var(--sklearn-color-border-box);\n",
       "  border-radius: 0.25em;\n",
       "  box-sizing: border-box;\n",
       "  margin-bottom: 0.5em;\n",
       "  /* unfitted */\n",
       "  background-color: var(--sklearn-color-unfitted-level-0);\n",
       "}\n",
       "\n",
       "#sk-container-id-2 div.sk-estimator.fitted {\n",
       "  /* fitted */\n",
       "  background-color: var(--sklearn-color-fitted-level-0);\n",
       "}\n",
       "\n",
       "/* on hover */\n",
       "#sk-container-id-2 div.sk-estimator:hover {\n",
       "  /* unfitted */\n",
       "  background-color: var(--sklearn-color-unfitted-level-2);\n",
       "}\n",
       "\n",
       "#sk-container-id-2 div.sk-estimator.fitted:hover {\n",
       "  /* fitted */\n",
       "  background-color: var(--sklearn-color-fitted-level-2);\n",
       "}\n",
       "\n",
       "/* Specification for estimator info (e.g. \"i\" and \"?\") */\n",
       "\n",
       "/* Common style for \"i\" and \"?\" */\n",
       "\n",
       ".sk-estimator-doc-link,\n",
       "a:link.sk-estimator-doc-link,\n",
       "a:visited.sk-estimator-doc-link {\n",
       "  float: right;\n",
       "  font-size: smaller;\n",
       "  line-height: 1em;\n",
       "  font-family: monospace;\n",
       "  background-color: var(--sklearn-color-background);\n",
       "  border-radius: 1em;\n",
       "  height: 1em;\n",
       "  width: 1em;\n",
       "  text-decoration: none !important;\n",
       "  margin-left: 1ex;\n",
       "  /* unfitted */\n",
       "  border: var(--sklearn-color-unfitted-level-1) 1pt solid;\n",
       "  color: var(--sklearn-color-unfitted-level-1);\n",
       "}\n",
       "\n",
       ".sk-estimator-doc-link.fitted,\n",
       "a:link.sk-estimator-doc-link.fitted,\n",
       "a:visited.sk-estimator-doc-link.fitted {\n",
       "  /* fitted */\n",
       "  border: var(--sklearn-color-fitted-level-1) 1pt solid;\n",
       "  color: var(--sklearn-color-fitted-level-1);\n",
       "}\n",
       "\n",
       "/* On hover */\n",
       "div.sk-estimator:hover .sk-estimator-doc-link:hover,\n",
       ".sk-estimator-doc-link:hover,\n",
       "div.sk-label-container:hover .sk-estimator-doc-link:hover,\n",
       ".sk-estimator-doc-link:hover {\n",
       "  /* unfitted */\n",
       "  background-color: var(--sklearn-color-unfitted-level-3);\n",
       "  color: var(--sklearn-color-background);\n",
       "  text-decoration: none;\n",
       "}\n",
       "\n",
       "div.sk-estimator.fitted:hover .sk-estimator-doc-link.fitted:hover,\n",
       ".sk-estimator-doc-link.fitted:hover,\n",
       "div.sk-label-container:hover .sk-estimator-doc-link.fitted:hover,\n",
       ".sk-estimator-doc-link.fitted:hover {\n",
       "  /* fitted */\n",
       "  background-color: var(--sklearn-color-fitted-level-3);\n",
       "  color: var(--sklearn-color-background);\n",
       "  text-decoration: none;\n",
       "}\n",
       "\n",
       "/* Span, style for the box shown on hovering the info icon */\n",
       ".sk-estimator-doc-link span {\n",
       "  display: none;\n",
       "  z-index: 9999;\n",
       "  position: relative;\n",
       "  font-weight: normal;\n",
       "  right: .2ex;\n",
       "  padding: .5ex;\n",
       "  margin: .5ex;\n",
       "  width: min-content;\n",
       "  min-width: 20ex;\n",
       "  max-width: 50ex;\n",
       "  color: var(--sklearn-color-text);\n",
       "  box-shadow: 2pt 2pt 4pt #999;\n",
       "  /* unfitted */\n",
       "  background: var(--sklearn-color-unfitted-level-0);\n",
       "  border: .5pt solid var(--sklearn-color-unfitted-level-3);\n",
       "}\n",
       "\n",
       ".sk-estimator-doc-link.fitted span {\n",
       "  /* fitted */\n",
       "  background: var(--sklearn-color-fitted-level-0);\n",
       "  border: var(--sklearn-color-fitted-level-3);\n",
       "}\n",
       "\n",
       ".sk-estimator-doc-link:hover span {\n",
       "  display: block;\n",
       "}\n",
       "\n",
       "/* \"?\"-specific style due to the `<a>` HTML tag */\n",
       "\n",
       "#sk-container-id-2 a.estimator_doc_link {\n",
       "  float: right;\n",
       "  font-size: 1rem;\n",
       "  line-height: 1em;\n",
       "  font-family: monospace;\n",
       "  background-color: var(--sklearn-color-background);\n",
       "  border-radius: 1rem;\n",
       "  height: 1rem;\n",
       "  width: 1rem;\n",
       "  text-decoration: none;\n",
       "  /* unfitted */\n",
       "  color: var(--sklearn-color-unfitted-level-1);\n",
       "  border: var(--sklearn-color-unfitted-level-1) 1pt solid;\n",
       "}\n",
       "\n",
       "#sk-container-id-2 a.estimator_doc_link.fitted {\n",
       "  /* fitted */\n",
       "  border: var(--sklearn-color-fitted-level-1) 1pt solid;\n",
       "  color: var(--sklearn-color-fitted-level-1);\n",
       "}\n",
       "\n",
       "/* On hover */\n",
       "#sk-container-id-2 a.estimator_doc_link:hover {\n",
       "  /* unfitted */\n",
       "  background-color: var(--sklearn-color-unfitted-level-3);\n",
       "  color: var(--sklearn-color-background);\n",
       "  text-decoration: none;\n",
       "}\n",
       "\n",
       "#sk-container-id-2 a.estimator_doc_link.fitted:hover {\n",
       "  /* fitted */\n",
       "  background-color: var(--sklearn-color-fitted-level-3);\n",
       "}\n",
       "</style><div id=\"sk-container-id-2\" class=\"sk-top-container\"><div class=\"sk-text-repr-fallback\"><pre>MLPClassifier(activation=&#x27;tanh&#x27;, early_stopping=True,\n",
       "              hidden_layer_sizes=(256, 128), max_iter=100)</pre><b>In a Jupyter environment, please rerun this cell to show the HTML representation or trust the notebook. <br />On GitHub, the HTML representation is unable to render, please try loading this page with nbviewer.org.</b></div><div class=\"sk-container\" hidden><div class=\"sk-item\"><div class=\"sk-estimator fitted sk-toggleable\"><input class=\"sk-toggleable__control sk-hidden--visually\" id=\"sk-estimator-id-2\" type=\"checkbox\" checked><label for=\"sk-estimator-id-2\" class=\"sk-toggleable__label fitted sk-toggleable__label-arrow fitted\">&nbsp;&nbsp;MLPClassifier<a class=\"sk-estimator-doc-link fitted\" rel=\"noreferrer\" target=\"_blank\" href=\"https://scikit-learn.org/1.5/modules/generated/sklearn.neural_network.MLPClassifier.html\">?<span>Documentation for MLPClassifier</span></a><span class=\"sk-estimator-doc-link fitted\">i<span>Fitted</span></span></label><div class=\"sk-toggleable__content fitted\"><pre>MLPClassifier(activation=&#x27;tanh&#x27;, early_stopping=True,\n",
       "              hidden_layer_sizes=(256, 128), max_iter=100)</pre></div> </div></div></div></div>"
      ],
      "text/plain": [
       "MLPClassifier(activation='tanh', early_stopping=True,\n",
       "              hidden_layer_sizes=(256, 128), max_iter=100)"
      ]
     },
     "execution_count": 63,
     "metadata": {},
     "output_type": "execute_result"
    }
   ],
   "source": [
    "# mlp with different activation function\n",
    "mlp_tanh = MLPClassifier(hidden_layer_sizes=(256, 128), max_iter=100, early_stopping=True, activation='tanh', solver='adam')\n",
    "mlp_tanh.fit(X_train_glove, y_train)"
   ]
  },
  {
   "cell_type": "code",
   "execution_count": 64,
   "metadata": {},
   "outputs": [],
   "source": [
    "y_pred_tanh = mlp_tanh.predict(X_test_glove)"
   ]
  },
  {
   "cell_type": "code",
   "execution_count": 65,
   "metadata": {},
   "outputs": [
    {
     "name": "stdout",
     "output_type": "stream",
     "text": [
      "              precision    recall  f1-score   support\n",
      "\n",
      "           0       0.92      0.89      0.90      1900\n",
      "           1       0.95      0.98      0.96      1900\n",
      "           2       0.85      0.87      0.86      1900\n",
      "           3       0.88      0.87      0.87      1900\n",
      "\n",
      "    accuracy                           0.90      7600\n",
      "   macro avg       0.90      0.90      0.90      7600\n",
      "weighted avg       0.90      0.90      0.90      7600\n",
      "\n"
     ]
    }
   ],
   "source": [
    "tanh_report = classification_report(y_test, y_pred_tanh)\n",
    "print(tanh_report)"
   ]
  },
  {
   "cell_type": "markdown",
   "metadata": {},
   "source": [
    "tanh activation function increases the precision in 0 (world news) and 1 (sports), while relu activation function increases the precision in 2 (business) and 3 (science and technology). This could be due to tanh being able to capture the non-linear relationships better than relu and with the nature of news headlines, it is important to capture the non-linear relationships."
   ]
  },
  {
   "cell_type": "code",
   "execution_count": 66,
   "metadata": {},
   "outputs": [
    {
     "name": "stderr",
     "output_type": "stream",
     "text": [
      "c:\\Users\\User\\Documents\\CMM307-PRINCESS-UKANWA\\cmmvenv\\Lib\\site-packages\\sklearn\\utils\\deprecation.py:66: FutureWarning: Class parallel_backend is deprecated; deprecated in 1.5 to be removed in 1.7. Use joblib.{} instead.\n",
      "  warnings.warn(msg, category=FutureWarning)\n"
     ]
    }
   ],
   "source": [
    "from sklearn.utils import parallel_backend\n",
    "\n",
    "# mlp with activation function\n",
    "with parallel_backend('threading', n_jobs=-1):\n",
    "    mlp_logistic = MLPClassifier(hidden_layer_sizes=(256, 128), max_iter=100, early_stopping=True, activation='logistic', solver='adam')\n",
    "    mlp_logistic.fit(X_train_glove, y_train)"
   ]
  },
  {
   "cell_type": "code",
   "execution_count": 67,
   "metadata": {},
   "outputs": [],
   "source": [
    "y_pred_logistic = mlp_logistic.predict(X_test_glove)"
   ]
  },
  {
   "cell_type": "code",
   "execution_count": 68,
   "metadata": {},
   "outputs": [
    {
     "name": "stdout",
     "output_type": "stream",
     "text": [
      "              precision    recall  f1-score   support\n",
      "\n",
      "           0       0.93      0.89      0.91      1900\n",
      "           1       0.95      0.98      0.96      1900\n",
      "           2       0.86      0.87      0.87      1900\n",
      "           3       0.88      0.88      0.88      1900\n",
      "\n",
      "    accuracy                           0.90      7600\n",
      "   macro avg       0.90      0.90      0.90      7600\n",
      "weighted avg       0.90      0.90      0.90      7600\n",
      "\n"
     ]
    }
   ],
   "source": [
    "logistic_report = classification_report(y_test, y_pred_logistic)\n",
    "print(logistic_report)"
   ]
  },
  {
   "cell_type": "code",
   "execution_count": 69,
   "metadata": {},
   "outputs": [],
   "source": [
    "from sklearn.ensemble import RandomForestClassifier\n",
    "from sklearn.model_selection import StratifiedKFold, cross_val_score"
   ]
  },
  {
   "cell_type": "code",
   "execution_count": 70,
   "metadata": {},
   "outputs": [],
   "source": [
    "def run_model(X, y, model, kf):\n",
    "    accuracies = []\n",
    "    reports = []\n",
    "\n",
    "    # loop through each fold\n",
    "    for train_index, val_index in tqdm(\n",
    "        kf.split(X, y), total=kf.get_n_splits(), desc=\"Progress\"\n",
    "    ):\n",
    "        # split\n",
    "        X_train, X_val = X[train_index], X[val_index]\n",
    "        y_train, y_val = y[train_index], y[val_index]\n",
    "\n",
    "        # fit the model\n",
    "        model.fit(X_train, y_train)\n",
    "\n",
    "        # predict\n",
    "        y_pred = model.predict(X_val)\n",
    "\n",
    "        # get accuracy\n",
    "        accuracy = accuracy_score(y_val, y_pred)\n",
    "        accuracies.append(accuracy)\n",
    "\n",
    "        # get classification report\n",
    "        report = classification_report(y_val, y_pred, output_dict=True)\n",
    "        reports.append(report)\n",
    "\n",
    "    # Aggregate the results\n",
    "    avg_report = {\n",
    "        metric: np.mean([report['weighted avg'][metric] for report in reports])\n",
    "        for metric in [\"precision\", \"recall\", \"f1-score\"]\n",
    "    }\n",
    "\n",
    "    return {\n",
    "        \"accuracies\" : accuracies,\n",
    "        \"avg_report\": avg_report\n",
    "    }"
   ]
  },
  {
   "cell_type": "code",
   "execution_count": 71,
   "metadata": {},
   "outputs": [],
   "source": [
    "rf_model = RandomForestClassifier(\n",
    "    n_estimators=50, \n",
    "    max_depth=20,\n",
    "    max_samples=.8,\n",
    "    )"
   ]
  },
  {
   "cell_type": "code",
   "execution_count": 72,
   "metadata": {},
   "outputs": [],
   "source": [
    "kfold = StratifiedKFold(n_splits=5, shuffle=True)\n",
    "\n",
    "# rf_results = run_model(X_train_glove, y_train, rf_model, kfold)"
   ]
  },
  {
   "cell_type": "code",
   "execution_count": 73,
   "metadata": {},
   "outputs": [],
   "source": [
    "# print(f\"Accuracies: {rf_results['accuracies']}\")\n",
    "# print(f\"Average Report: {rf_results['avg_report']}\")"
   ]
  },
  {
   "cell_type": "code",
   "execution_count": 74,
   "metadata": {},
   "outputs": [],
   "source": [
    "from sklearn.utils import parallel_backend\n",
    "\n",
    "\n",
    "def run_model_with_backend(X, y, model, kf):\n",
    "    accuracies = []\n",
    "    reports = []\n",
    "\n",
    "    with parallel_backend(\"threading\", n_jobs=-1):  # Use threading or multiprocessing\n",
    "        for train_index, val_index in tqdm(\n",
    "            kf.split(X, y), total=kf.get_n_splits(), desc=\"Progress\"\n",
    "        ):\n",
    "            # split\n",
    "            X_train, X_val = X[train_index], X[val_index]\n",
    "            y_train, y_val = y[train_index], y[val_index]\n",
    "\n",
    "            # fit the model\n",
    "            model.fit(X_train, y_train)\n",
    "\n",
    "            # predict\n",
    "            y_pred = model.predict(X_val)\n",
    "\n",
    "            # get accuracy\n",
    "            accuracy = accuracy_score(y_val, y_pred)\n",
    "            accuracies.append(accuracy)\n",
    "\n",
    "            # get classification report\n",
    "            report = classification_report(y_val, y_pred, output_dict=True)\n",
    "            reports.append(report)\n",
    "\n",
    "    # Aggregate the results\n",
    "    avg_report = {\n",
    "        metric: np.mean([report[\"weighted avg\"][metric] for report in reports])\n",
    "        for metric in [\"precision\", \"recall\", \"f1-score\"]\n",
    "    }\n",
    "\n",
    "    return {\"accuracies\": accuracies, \"avg_report\": avg_report}"
   ]
  },
  {
   "cell_type": "code",
   "execution_count": 75,
   "metadata": {},
   "outputs": [
    {
     "name": "stderr",
     "output_type": "stream",
     "text": [
      "c:\\Users\\User\\Documents\\CMM307-PRINCESS-UKANWA\\cmmvenv\\Lib\\site-packages\\sklearn\\utils\\deprecation.py:66: FutureWarning: Class parallel_backend is deprecated; deprecated in 1.5 to be removed in 1.7. Use joblib.{} instead.\n",
      "  warnings.warn(msg, category=FutureWarning)\n",
      "Progress: 100%|██████████| 5/5 [02:02<00:00, 24.55s/it]\n"
     ]
    }
   ],
   "source": [
    "rf_results_backend = run_model_with_backend(X_train_glove, y_train, rf_model, kfold)"
   ]
  },
  {
   "cell_type": "code",
   "execution_count": 76,
   "metadata": {},
   "outputs": [
    {
     "name": "stdout",
     "output_type": "stream",
     "text": [
      "Accuracies: [0.88625, 0.8840416666666666, 0.8857083333333333, 0.8837083333333333, 0.8865833333333333]\n",
      "Mean Accuracy: 0.8852583333333331\n",
      "Average Report: {'precision': 0.8853831604521549, 'recall': 0.8852583333333331, 'f1-score': 0.8851323346588018}\n"
     ]
    }
   ],
   "source": [
    "print(f\"Accuracies: {rf_results_backend['accuracies']}\")\n",
    "print(f\"Mean Accuracy: {np.mean(rf_results_backend['accuracies'])}\")\n",
    "print(f\"Average Report: {rf_results_backend['avg_report']}\")"
   ]
  },
  {
   "cell_type": "code",
   "execution_count": 77,
   "metadata": {},
   "outputs": [],
   "source": [
    "# from sklearn.model_selection import GridSearchCV, ParameterGrid\n",
    "\n",
    "# param_grid = {\n",
    "#     \"n_estimators\": [50, 100],\n",
    "#     \"max_depth\": [None,10, 20],\n",
    "#     \"max_samples\": [0.8, 1.0],\n",
    "#     \"min_samples_split\": [2, 5],\n",
    "#     \"min_samples_leaf\": [1, 2],\n",
    "#     \"max_features\": [\"auto\", \"sqrt\", \"log2\", None], \n",
    "# }"
   ]
  },
  {
   "cell_type": "code",
   "execution_count": 78,
   "metadata": {},
   "outputs": [],
   "source": [
    "# best_score = 0\n",
    "# best_params = {}\n",
    "# results = []\n",
    "\n",
    "# for params in tqdm(list(ParameterGrid(param_grid)), desc=\"Grid Search\"):\n",
    "#     # Initialize the model\n",
    "#     rf_model = RandomForestClassifier(\n",
    "#         n_estimators=params[\"n_estimators\"],\n",
    "#         max_depth=params[\"max_depth\"],\n",
    "#         max_samples=params[\"max_samples\"],\n",
    "#         # min_samples_split=params[\"min_samples_split\"],\n",
    "#         # min_samples_leaf=params[\"min_samples_leaf\"],\n",
    "#         # max_features=params[\"max_features\"],\n",
    "#         n_jobs=-1, # Use all available cores\n",
    "#     )\n",
    "\n",
    "#     # Run the model\n",
    "#     rf_results = run_model_with_backend(X_train_glove, y_train, rf_model, kfold)\n",
    "\n",
    "#     # Save the results\n",
    "#     mean_accuracy = np.mean(rf_results[\"accuracies\"])\n",
    "#     results.append({\"params\": params, \"mean_accuracy\": mean_accuracy})\n",
    "\n",
    "#     # Update the best score and parameters\n",
    "#     if mean_accuracy > best_score:\n",
    "#         best_score = mean_accuracy\n",
    "#         best_params = params    \n"
   ]
  },
  {
   "cell_type": "code",
   "execution_count": 79,
   "metadata": {},
   "outputs": [],
   "source": [
    "# print(f\"Best Score: {best_score}\")\n",
    "# print(f\"Best Parameters: {best_params}\")"
   ]
  },
  {
   "cell_type": "markdown",
   "metadata": {},
   "source": [
    "## Evaluation\n",
    "The evaluation process compares the performance of the multi-layer perceptron (MLP) and random forest classifier in classifying news article titles from the AG News dataset into the four categories. Both algorithms were assessed using the test dataset, and their performances were measured using the following metrics: accuracy, precision, recall, and F1-score.\n",
    "\n",
    "The random forest classifier achieved an average accuracy of 88.% across multiple runs, with individual accuracies ranging from 88.2% to 88.85%. The average precision, recall, and F1-score were approximately 88.5%, indicating that the model was consistent in predicting all four categories.\n",
    "\n",
    "The MLP demonstrated an accuracy of 90%, outperforming the random forest. It achieved a macro-average precision, recall, and F1-score of 90%. The slightly lower performance for ‘business’ may reflect the overlap of certain terms with other categories, making classification more challenging.\n",
    "\n",
    "Overall, MLP’s ability to leverage pre-trained word embeddings (GloVe and FastText) allowed it to capture semantic relationships between words, contributing to its enhanced performance. In contrast, the random forest’s reliance on independent word importance limited its ability to model context. This highlights the strength of using representation learning in tasks that require understanding the meaning of text."
   ]
  },
  {
   "cell_type": "code",
   "execution_count": 80,
   "metadata": {},
   "outputs": [
    {
     "data": {
      "image/png": "[encoded data removed]",
      "text/plain": [
       "<Figure size 1200x600 with 1 Axes>"
      ]
     },
     "metadata": {},
     "output_type": "display_data"
    }
   ],
   "source": [
    "models = ['Random Forest', 'MLP (relu)', 'MLP (tanh)', 'MLP (logistic)']\n",
    "accuracies = [round(rf_results_backend['avg_report']['precision'] * 100, 2), 90.0, 90.0, 90.0]\n",
    "\n",
    "plt.figure(figsize=(12, 6))\n",
    "plt.bar(models, accuracies, color='skyblue')\n",
    "plt.xticks(models)\n",
    "plt.ylabel(\"Accuracy\")\n",
    "plt.title(\"Model Accuracy Comparison\")\n",
    "for i, v in enumerate(accuracies):\n",
    "    plt.text(i, v + 1, str(v), ha='center')\n",
    "plt.show()\n"
   ]
  },
  {
   "cell_type": "code",
   "execution_count": 81,
   "metadata": {},
   "outputs": [
    {
     "data": {
      "image/png": "[encoded data removed]",
      "text/plain": [
       "<Figure size 1200x600 with 1 Axes>"
      ]
     },
     "metadata": {},
     "output_type": "display_data"
    }
   ],
   "source": [
    "# compare label precisions (0-3) for each MLP variant\n",
    "labels = ['0', '1', '2', '3']\n",
    "\n",
    "\n",
    "def get_label_precision(y_true, y_pred, label):\n",
    "    return classification_report(y_true, y_pred, output_dict=True)[label]['precision']\n",
    "\n",
    "\n",
    "mlp_relu_label_precisions = [get_label_precision(y_test, y_pred, label) for label in labels]\n",
    "\n",
    "mlp_tanh_label_precisions = [get_label_precision(y_test, y_pred_tanh, label) for label in labels]\n",
    "\n",
    "mlp_logistic_label_precisions = [get_label_precision(y_test, y_pred_logistic, label) for label in labels]\n",
    "\n",
    "plt.figure(figsize=(12, 6))\n",
    "plt.bar(labels, mlp_relu_label_precisions, color='skyblue', label='MLP (relu)')\n",
    "plt.bar(labels, mlp_tanh_label_precisions, color='salmon', label='MLP (tanh)')\n",
    "plt.bar(labels, mlp_logistic_label_precisions, color='lightgreen', label='MLP (logistic)')\n",
    "plt.xticks(labels)\n",
    "plt.ylabel(\"Precision\")\n",
    "plt.ylim(0.8, 1.0)\n",
    "plt.title(\"Label Precision Comparison\")\n",
    "plt.legend()\n",
    "plt.show()"
   ]
  },
  {
   "cell_type": "code",
   "execution_count": 82,
   "metadata": {},
   "outputs": [
    {
     "data": {
      "image/png": "[encoded data removed]",
      "text/plain": [
       "<Figure size 800x600 with 2 Axes>"
      ]
     },
     "metadata": {},
     "output_type": "display_data"
    }
   ],
   "source": [
    "# Data for heatmap\n",
    "data = [\n",
    "    mlp_relu_label_precisions,\n",
    "    mlp_tanh_label_precisions,\n",
    "    mlp_logistic_label_precisions,\n",
    "]\n",
    "\n",
    "heatmap_data = np.array(data)\n",
    "model_names = ['MLP (ReLU)', 'MLP (tanh)', 'MLP (logistic)']\n",
    "\n",
    "plt.figure(figsize=(8, 6))\n",
    "sns.heatmap(\n",
    "    heatmap_data,\n",
    "    annot=True,\n",
    "    fmt=\".2f\",\n",
    "    cmap=\"YlGnBu\",\n",
    "    xticklabels=labels,\n",
    "    yticklabels=model_names,\n",
    "    cbar=True\n",
    ")\n",
    "plt.title(\"Label Precision Heatmap\")\n",
    "plt.xlabel(\"Labels\")\n",
    "plt.ylabel(\"Models\")\n",
    "plt.show()\n"
   ]
  },
  {
   "cell_type": "markdown",
   "metadata": {},
   "source": [
    "## Paper Overview\n",
    "Paper Overview\n",
    "Paper: Sun, C., Qiu, X., Xu, Y., Huang, X., 2019. How to Fine-Tune BERT for Text Classification? Proceedings of the 57th Annual Meeting of the Association for Computational Linguistics (ACL). Available at: [https://arxiv.org/abs/1905.05583] [Accessed 10 December 2024].\n",
    "\n",
    "This paper explores how to fine-tune BERT (Bidirectional Encoder Representations from Transformers) for text classification tasks. The authors aim to make the most of BERT's pre-trained capabilities to boost performance across a variety of datasets.\n",
    "Through extensive experiments, the study compares different fine-tuning methods and pinpoints best practices for tailoring BERT to various text classification challenges. It assesses BERT's effectiveness in sentiment analysis, question classification, and topic classification, offering insights into how to best adapt fine-tuning for each of these areas.\n",
    "The paper’s main contributions are:\n",
    "* It lays out a detailed framework for fine-tuning BERT, incorporating further pre-training, multi-task learning, and specific fine-tuning strategies.\n",
    "* It shows that BERT can achieve top-notch results across several widely-used text classification datasets.\n",
    "* It dives into various aspects of fine-tuning, like how to select layers, set learning rates, and manage long texts, all of which play a crucial role in performance.\n",
    "Methodology\n",
    "The paper introduces several creative approaches to fine-tuning BERT, including:\n",
    "* Further pre-training which involves using data specific to the target domain to pre-train BERT before moving on to fine-tuning.\n",
    "* Layer selection where the authors experiment with outputs from different layers of BERT to figure out which ones work best for classification tasks.\n",
    "* Implementing different learning rates for different layers to improve the training process and address issues like catastrophic forgetting.\n",
    "* Multi-task learning by leveraging related tasks. These enhance the model's ability to generalise, allowing for shared learning across various classification challenges.\n",
    "\n",
    "When testing these methods on datasets like AG's News, the findings indicate that BERT's performance can significantly improve through these fine-tuning strategies. The research highlights how important it is to customise approaches to fully harness BERT's potential for different text classification scenarios."
   ]
  },
  {
   "cell_type": "markdown",
   "metadata": {},
   "source": [
    "## Paper Code Recreation"
   ]
  },
  {
   "cell_type": "code",
   "execution_count": 2,
   "metadata": {},
   "outputs": [],
   "source": [
    "# import BERT\n",
    "from transformers import AutoTokenizer, AutoModelForSequenceClassification, DataCollatorWithPadding, Trainer, TrainingArguments\n",
    "from sklearn.metrics import roc_auc_score, classification_report\n",
    "import torch\n",
    "import numpy as np\n"
   ]
  },
  {
   "cell_type": "code",
   "execution_count": 3,
   "metadata": {},
   "outputs": [
    {
     "name": "stderr",
     "output_type": "stream",
     "text": [
      "Some weights of BertForSequenceClassification were not initialized from the model checkpoint at bert-base-uncased and are newly initialized: ['classifier.bias', 'classifier.weight']\n",
      "You should probably TRAIN this model on a down-stream task to be able to use it for predictions and inference.\n"
     ]
    }
   ],
   "source": [
    "# Load the BERT model and tokenizer\n",
    "tokenizer = AutoTokenizer.from_pretrained(\"bert-base-uncased\")\n",
    "\n",
    "id2label = {0: \"World\", 1: \"Sports\", 2: \"Business\", 3: \"Sci/Tech\"}\n",
    "label2id = {v: k for k, v in id2label.items()}\n",
    "\n",
    "model = AutoModelForSequenceClassification.from_pretrained(\n",
    "    \"bert-base-uncased\", num_labels=len(id2label), id2label=id2label, label2id=label2id\n",
    ")"
   ]
  },
  {
   "cell_type": "code",
   "execution_count": 4,
   "metadata": {},
   "outputs": [
    {
     "data": {
      "text/plain": [
       "BertForSequenceClassification(\n",
       "  (bert): BertModel(\n",
       "    (embeddings): BertEmbeddings(\n",
       "      (word_embeddings): Embedding(30522, 768, padding_idx=0)\n",
       "      (position_embeddings): Embedding(512, 768)\n",
       "      (token_type_embeddings): Embedding(2, 768)\n",
       "      (LayerNorm): LayerNorm((768,), eps=1e-12, elementwise_affine=True)\n",
       "      (dropout): Dropout(p=0.1, inplace=False)\n",
       "    )\n",
       "    (encoder): BertEncoder(\n",
       "      (layer): ModuleList(\n",
       "        (0-11): 12 x BertLayer(\n",
       "          (attention): BertAttention(\n",
       "            (self): BertSdpaSelfAttention(\n",
       "              (query): Linear(in_features=768, out_features=768, bias=True)\n",
       "              (key): Linear(in_features=768, out_features=768, bias=True)\n",
       "              (value): Linear(in_features=768, out_features=768, bias=True)\n",
       "              (dropout): Dropout(p=0.1, inplace=False)\n",
       "            )\n",
       "            (output): BertSelfOutput(\n",
       "              (dense): Linear(in_features=768, out_features=768, bias=True)\n",
       "              (LayerNorm): LayerNorm((768,), eps=1e-12, elementwise_affine=True)\n",
       "              (dropout): Dropout(p=0.1, inplace=False)\n",
       "            )\n",
       "          )\n",
       "          (intermediate): BertIntermediate(\n",
       "            (dense): Linear(in_features=768, out_features=3072, bias=True)\n",
       "            (intermediate_act_fn): GELUActivation()\n",
       "          )\n",
       "          (output): BertOutput(\n",
       "            (dense): Linear(in_features=3072, out_features=768, bias=True)\n",
       "            (LayerNorm): LayerNorm((768,), eps=1e-12, elementwise_affine=True)\n",
       "            (dropout): Dropout(p=0.1, inplace=False)\n",
       "          )\n",
       "        )\n",
       "      )\n",
       "    )\n",
       "    (pooler): BertPooler(\n",
       "      (dense): Linear(in_features=768, out_features=768, bias=True)\n",
       "      (activation): Tanh()\n",
       "    )\n",
       "  )\n",
       "  (dropout): Dropout(p=0.1, inplace=False)\n",
       "  (classifier): Linear(in_features=768, out_features=4, bias=True)\n",
       ")"
      ]
     },
     "execution_count": 4,
     "metadata": {},
     "output_type": "execute_result"
    }
   ],
   "source": [
    "device = \"cuda\" if torch.cuda.is_available() else \"cpu\"\n",
    "model.to(device)"
   ]
  },
  {
   "cell_type": "code",
   "execution_count": 5,
   "metadata": {},
   "outputs": [],
   "source": [
    "dataset_dict = ds"
   ]
  },
  {
   "cell_type": "code",
   "execution_count": 6,
   "metadata": {},
   "outputs": [],
   "source": [
    "def preprocess_function(examples):\n",
    "    return tokenizer(examples[\"text\"], truncation=True, padding=True, max_length=512)\n"
   ]
  },
  {
   "cell_type": "code",
   "execution_count": 7,
   "metadata": {},
   "outputs": [],
   "source": [
    "tokenized_data = ds.map(preprocess_function, batched=True)"
   ]
  },
  {
   "cell_type": "code",
   "execution_count": 8,
   "metadata": {},
   "outputs": [],
   "source": [
    "class TokenizedDataset:\n",
    "    def __init__(self, dataset):\n",
    "        if isinstance(dataset, dict):\n",
    "            self.dataset = [\n",
    "                {key: val[i] for key, val in dataset.items()}\n",
    "                for i in range(len(next(iter(dataset.values()))))\n",
    "            ]\n",
    "        else:\n",
    "            self.dataset = dataset\n",
    "\n",
    "    def __getitem__(self, idx):\n",
    "        item = self.dataset[idx]\n",
    "        return {\n",
    "            key: torch.tensor(val) if isinstance(val, list) else val\n",
    "            for key, val in item.items()\n",
    "        }\n",
    "\n",
    "    def get_field(self, field_name):\n",
    "        # Return all values for a specific field (e.g., 'label')\n",
    "        return [example[field_name] for example in self.dataset]\n",
    "\n",
    "    def __len__(self):\n",
    "        return len(self.dataset)\n",
    "\n",
    "\n",
    "train_dataset = TokenizedDataset(tokenized_data[\"train\"])\n",
    "test_dataset = TokenizedDataset(tokenized_data[\"test\"])\n"
   ]
  },
  {
   "cell_type": "code",
   "execution_count": 9,
   "metadata": {},
   "outputs": [],
   "source": [
    "data_collator =  DataCollatorWithPadding(tokenizer)"
   ]
  },
  {
   "cell_type": "code",
   "execution_count": 10,
   "metadata": {},
   "outputs": [],
   "source": [
    "import evaluate\n",
    "# load metrics\n",
    "accuracy = evaluate.load(\"accuracy\")\n",
    "auc_score = evaluate.load(\"roc_auc\")"
   ]
  },
  {
   "cell_type": "code",
   "execution_count": 11,
   "metadata": {},
   "outputs": [],
   "source": [
    "from sklearn.metrics import classification_report\n",
    "\n",
    "def compute_metrics(eval_pred):\n",
    "    logits, labels = eval_pred\n",
    "    preds = np.argmax(logits, axis=1)\n",
    "    \n",
    "    # Classification report with zero_division=0 to handle undefined precision\n",
    "    report = classification_report(labels, preds, output_dict=True, zero_division=0)\n",
    "    \n",
    "    # Extract per-class F1 scores dynamically\n",
    "    f1_per_class = {\n",
    "        f\"class_{cls}\": np.round(report[str(cls)][\"f1-score\"], 4)\n",
    "        for cls in set(labels)  # Dynamically get all unique class labels\n",
    "    }\n",
    "    \n",
    "    return {\n",
    "        \"accuracy\": report[\"accuracy\"],\n",
    "        \"f1_per_class\": f1_per_class,\n",
    "        \"weighted_f1\": np.round(report[\"weighted avg\"][\"f1-score\"], 4),\n",
    "    }\n"
   ]
  },
  {
   "cell_type": "code",
   "execution_count": 12,
   "metadata": {},
   "outputs": [],
   "source": [
    "lr = 2e-5\n",
    "batch_size = 8\n",
    "num_epochs = 10"
   ]
  },
  {
   "cell_type": "code",
   "execution_count": null,
   "metadata": {},
   "outputs": [],
   "source": [
    "from sklearn.model_selection import train_test_split\n",
    "\n",
    "# Extract labels\n",
    "labels = tokenized_data['train']['label']\n",
    "\n",
    "# Split the dataset\n",
    "train_indices, _ = train_test_split(\n",
    "    range(len(labels)), \n",
    "    test_size=len(labels) - 16,   \n",
    "    stratify=labels, \n",
    ")\n",
    "\n",
    "test_labels = tokenized_data['test']['label']\n",
    "test_indices, _ = train_test_split(\n",
    "    range(len(test_labels)), \n",
    "    test_size=len(test_labels) - 16, \n",
    "    stratify=test_labels, \n",
    ")\n",
    "\n",
    "# Create small datasets\n",
    "small_train_dataset = TokenizedDataset(tokenized_data['train'].select(train_indices))\n",
    "small_test_dataset = TokenizedDataset(tokenized_data['test'].select(test_indices))"
   ]
  },
  {
   "cell_type": "code",
   "execution_count": 14,
   "metadata": {},
   "outputs": [
    {
     "name": "stdout",
     "output_type": "stream",
     "text": [
      "[3, 3, 2, 1, 3, 2, 0, 0, 1, 1, 0, 3, 0, 2, 2, 1]\n"
     ]
    }
   ],
   "source": [
    "print(small_train_dataset.get_field('label'))  # Show the first few keys or items\n",
    "# print(small_test_dataset['label'])  # Show the first few keys or items"
   ]
  },
  {
   "cell_type": "code",
   "execution_count": 15,
   "metadata": {},
   "outputs": [
    {
     "name": "stderr",
     "output_type": "stream",
     "text": [
      "                                              \n",
      " 10%|█         | 2/20 [00:41<05:19, 17.76s/it]"
     ]
    },
    {
     "name": "stdout",
     "output_type": "stream",
     "text": [
      "{'eval_loss': 1.3575342893600464, 'eval_accuracy': 0.25, 'eval_f1_per_class': {'class_0': 0.0, 'class_1': 0.25, 'class_2': 0.375, 'class_3': 0.0}, 'eval_weighted_f1': 0.1562, 'eval_runtime': 6.6725, 'eval_samples_per_second': 2.398, 'eval_steps_per_second': 0.3, 'epoch': 1.0}\n"
     ]
    },
    {
     "name": "stderr",
     "output_type": "stream",
     "text": [
      "                                              \n",
      " 20%|██        | 4/20 [01:23<05:18, 19.89s/it]"
     ]
    },
    {
     "name": "stdout",
     "output_type": "stream",
     "text": [
      "{'eval_loss': 1.3346357345581055, 'eval_accuracy': 0.4375, 'eval_f1_per_class': {'class_0': 0.4, 'class_1': 0.5, 'class_2': 0.6, 'class_3': 0.0}, 'eval_weighted_f1': 0.375, 'eval_runtime': 6.774, 'eval_samples_per_second': 2.362, 'eval_steps_per_second': 0.295, 'epoch': 2.0}\n"
     ]
    },
    {
     "name": "stderr",
     "output_type": "stream",
     "text": [
      "                                              \n",
      " 30%|███       | 6/20 [02:04<04:48, 20.64s/it]"
     ]
    },
    {
     "name": "stdout",
     "output_type": "stream",
     "text": [
      "{'eval_loss': 1.321720838546753, 'eval_accuracy': 0.5, 'eval_f1_per_class': {'class_0': 0.4, 'class_1': 0.6154, 'class_2': 0.6667, 'class_3': 0.0}, 'eval_weighted_f1': 0.4205, 'eval_runtime': 3.5426, 'eval_samples_per_second': 4.517, 'eval_steps_per_second': 0.565, 'epoch': 3.0}\n"
     ]
    },
    {
     "name": "stderr",
     "output_type": "stream",
     "text": [
      "                                              \n",
      " 40%|████      | 8/20 [02:41<03:41, 18.46s/it]"
     ]
    },
    {
     "name": "stdout",
     "output_type": "stream",
     "text": [
      "{'eval_loss': 1.2987985610961914, 'eval_accuracy': 0.5, 'eval_f1_per_class': {'class_0': 0.4, 'class_1': 0.7273, 'class_2': 0.6667, 'class_3': 0.0}, 'eval_weighted_f1': 0.4485, 'eval_runtime': 6.1373, 'eval_samples_per_second': 2.607, 'eval_steps_per_second': 0.326, 'epoch': 4.0}\n"
     ]
    },
    {
     "name": "stderr",
     "output_type": "stream",
     "text": [
      " 50%|█████     | 10/20 [03:09<02:53, 17.36s/it]"
     ]
    },
    {
     "name": "stdout",
     "output_type": "stream",
     "text": [
      "{'loss': 1.2737, 'grad_norm': 6.669741153717041, 'learning_rate': 1e-05, 'epoch': 5.0}\n"
     ]
    },
    {
     "name": "stderr",
     "output_type": "stream",
     "text": [
      "                                               \n",
      " 50%|█████     | 10/20 [03:13<02:53, 17.36s/it]"
     ]
    },
    {
     "name": "stdout",
     "output_type": "stream",
     "text": [
      "{'eval_loss': 1.2687729597091675, 'eval_accuracy': 0.4375, 'eval_f1_per_class': {'class_0': 0.4, 'class_1': 0.6, 'class_2': 0.6667, 'class_3': 0.0}, 'eval_weighted_f1': 0.4167, 'eval_runtime': 4.395, 'eval_samples_per_second': 3.64, 'eval_steps_per_second': 0.455, 'epoch': 5.0}\n"
     ]
    },
    {
     "name": "stderr",
     "output_type": "stream",
     "text": [
      "                                               \n",
      " 60%|██████    | 12/20 [03:44<02:08, 16.01s/it]"
     ]
    },
    {
     "name": "stdout",
     "output_type": "stream",
     "text": [
      "{'eval_loss': 1.2454856634140015, 'eval_accuracy': 0.5625, 'eval_f1_per_class': {'class_0': 0.8571, 'class_1': 0.6, 'class_2': 0.6667, 'class_3': 0.0}, 'eval_weighted_f1': 0.531, 'eval_runtime': 4.3698, 'eval_samples_per_second': 3.661, 'eval_steps_per_second': 0.458, 'epoch': 6.0}\n"
     ]
    },
    {
     "name": "stderr",
     "output_type": "stream",
     "text": [
      "                                               \n",
      " 70%|███████   | 14/20 [04:13<01:29, 14.97s/it]"
     ]
    },
    {
     "name": "stdout",
     "output_type": "stream",
     "text": [
      "{'eval_loss': 1.2366626262664795, 'eval_accuracy': 0.5625, 'eval_f1_per_class': {'class_0': 0.8571, 'class_1': 0.6, 'class_2': 0.6667, 'class_3': 0.0}, 'eval_weighted_f1': 0.531, 'eval_runtime': 5.2835, 'eval_samples_per_second': 3.028, 'eval_steps_per_second': 0.379, 'epoch': 7.0}\n"
     ]
    },
    {
     "name": "stderr",
     "output_type": "stream",
     "text": [
      "                                               \n",
      " 80%|████████  | 16/20 [04:43<00:59, 15.00s/it]"
     ]
    },
    {
     "name": "stdout",
     "output_type": "stream",
     "text": [
      "{'eval_loss': 1.2294464111328125, 'eval_accuracy': 0.625, 'eval_f1_per_class': {'class_0': 1.0, 'class_1': 0.6, 'class_2': 0.6667, 'class_3': 0.0}, 'eval_weighted_f1': 0.5667, 'eval_runtime': 3.994, 'eval_samples_per_second': 4.006, 'eval_steps_per_second': 0.501, 'epoch': 8.0}\n"
     ]
    },
    {
     "name": "stderr",
     "output_type": "stream",
     "text": [
      "                                               \n",
      " 90%|█████████ | 18/20 [05:15<00:29, 14.89s/it]"
     ]
    },
    {
     "name": "stdout",
     "output_type": "stream",
     "text": [
      "{'eval_loss': 1.2256145477294922, 'eval_accuracy': 0.625, 'eval_f1_per_class': {'class_0': 1.0, 'class_1': 0.6, 'class_2': 0.6667, 'class_3': 0.0}, 'eval_weighted_f1': 0.5667, 'eval_runtime': 4.8364, 'eval_samples_per_second': 3.308, 'eval_steps_per_second': 0.414, 'epoch': 9.0}\n"
     ]
    },
    {
     "name": "stderr",
     "output_type": "stream",
     "text": [
      "100%|██████████| 20/20 [05:38<00:00, 13.86s/it]"
     ]
    },
    {
     "name": "stdout",
     "output_type": "stream",
     "text": [
      "{'loss': 1.0118, 'grad_norm': 8.343769073486328, 'learning_rate': 0.0, 'epoch': 10.0}\n"
     ]
    },
    {
     "name": "stderr",
     "output_type": "stream",
     "text": [
      "                                               \n",
      "100%|██████████| 20/20 [05:43<00:00, 13.86s/it]"
     ]
    },
    {
     "name": "stdout",
     "output_type": "stream",
     "text": [
      "{'eval_loss': 1.224010944366455, 'eval_accuracy': 0.625, 'eval_f1_per_class': {'class_0': 1.0, 'class_1': 0.6, 'class_2': 0.6667, 'class_3': 0.0}, 'eval_weighted_f1': 0.5667, 'eval_runtime': 4.0087, 'eval_samples_per_second': 3.991, 'eval_steps_per_second': 0.499, 'epoch': 10.0}\n"
     ]
    },
    {
     "name": "stderr",
     "output_type": "stream",
     "text": [
      "100%|██████████| 20/20 [05:45<00:00, 17.27s/it]"
     ]
    },
    {
     "name": "stdout",
     "output_type": "stream",
     "text": [
      "{'train_runtime': 345.3513, 'train_samples_per_second': 0.463, 'train_steps_per_second': 0.058, 'train_loss': 1.142726755142212, 'epoch': 10.0}\n"
     ]
    },
    {
     "name": "stderr",
     "output_type": "stream",
     "text": [
      "\n"
     ]
    },
    {
     "data": {
      "text/plain": [
       "TrainOutput(global_step=20, training_loss=1.142726755142212, metrics={'train_runtime': 345.3513, 'train_samples_per_second': 0.463, 'train_steps_per_second': 0.058, 'total_flos': 28416504250368.0, 'train_loss': 1.142726755142212, 'epoch': 10.0})"
      ]
     },
     "execution_count": 15,
     "metadata": {},
     "output_type": "execute_result"
    }
   ],
   "source": [
    "training_args = TrainingArguments(\n",
    "    output_dir=\"./results\",\n",
    "    eval_strategy=\"epoch\",\n",
    "    logging_strategy=\"steps\",\n",
    "    logging_steps=10,\n",
    "    disable_tqdm=False,\n",
    "    save_strategy=\"epoch\",\n",
    "    learning_rate=lr,\n",
    "    per_device_train_batch_size=batch_size,\n",
    "    per_device_eval_batch_size=batch_size,\n",
    "    num_train_epochs=num_epochs,\n",
    "    logging_dir=\"./logs\",\n",
    "    load_best_model_at_end=True,\n",
    "    use_cpu = not torch.cuda.is_available(),\n",
    ")\n",
    "\n",
    "trainer = Trainer(\n",
    "    model=model,\n",
    "    args=training_args,\n",
    "    train_dataset=small_train_dataset,\n",
    "    eval_dataset=small_test_dataset,  \n",
    "    data_collator=data_collator,\n",
    "    processing_class=tokenizer,\n",
    "    compute_metrics=compute_metrics,\n",
    ")\n",
    "\n",
    "trainer.train()"
   ]
  },
  {
   "cell_type": "code",
   "execution_count": 16,
   "metadata": {},
   "outputs": [
    {
     "name": "stderr",
     "output_type": "stream",
     "text": [
      "100%|██████████| 2/2 [00:02<00:00,  1.16s/it]\n"
     ]
    }
   ],
   "source": [
    "results = trainer.evaluate()"
   ]
  },
  {
   "cell_type": "code",
   "execution_count": 23,
   "metadata": {},
   "outputs": [
    {
     "name": "stdout",
     "output_type": "stream",
     "text": [
      "{'eval_loss': 1.224010944366455, 'eval_accuracy': 0.625, 'eval_f1_per_class': {'class_0': 1.0, 'class_1': 0.6, 'class_2': 0.6667, 'class_3': 0.0}, 'eval_weighted_f1': 0.5667, 'eval_runtime': 4.5013, 'eval_samples_per_second': 3.555, 'eval_steps_per_second': 0.444, 'epoch': 10.0}\n"
     ]
    }
   ],
   "source": [
    "print(results)"
   ]
  },
  {
   "cell_type": "code",
   "execution_count": 17,
   "metadata": {},
   "outputs": [],
   "source": [
    "# implement for only top layer\n",
    "from transformers import BertModel, BertPreTrainedModel, BertConfig\n",
    "import torch.nn as nn\n",
    "\n",
    "class TopLayerBertForSequenceClassification(BertPreTrainedModel):\n",
    "    def __init__(self, config):\n",
    "        super().__init__(config)\n",
    "        self.num_labels = config.num_labels\n",
    "        self.bert = BertModel(config)\n",
    "        self.dropout = nn.Dropout(config.hidden_dropout_prob)\n",
    "        self.classifier = nn.Linear(config.hidden_size, self.config.num_labels)\n",
    "\n",
    "        self.init_weights()\n",
    "\n",
    "    def forward(self, input_ids, attention_mask=None, token_type_ids=None, position_ids=None, head_mask=None, inputs_embeds=None, labels=None):\n",
    "        outputs = self.bert(\n",
    "            input_ids,\n",
    "            attention_mask=attention_mask,\n",
    "            token_type_ids=token_type_ids,\n",
    "            position_ids=position_ids,\n",
    "            head_mask=head_mask,\n",
    "            inputs_embeds=inputs_embeds,\n",
    "            return_dict=True,\n",
    "        )\n",
    "\n",
    "        top_layer_output = outputs.last_hidden_state\n",
    "\n",
    "        # use clas token's representation for classification\n",
    "        cls_output = top_layer_output[:, 0, :] # [batch_size, hidden_size]\n",
    "\n",
    "        logits = self.classifier(cls_output)\n",
    "\n",
    "        # calculate loss\n",
    "        loss = None\n",
    "        if labels is not None:\n",
    "            loss_fct = nn.CrossEntropyLoss()\n",
    "            loss = loss_fct(logits.view(-1, self.num_labels), labels.view(-1))\n",
    "\n",
    "        return (loss, logits) if loss is not None else logits"
   ]
  },
  {
   "cell_type": "code",
   "execution_count": 18,
   "metadata": {},
   "outputs": [],
   "source": [
    "config = BertConfig.from_pretrained(\"bert-base-uncased\", num_labels=len(id2label))\n",
    "\n",
    "model_top_layer = TopLayerBertForSequenceClassification(config)"
   ]
  },
  {
   "cell_type": "code",
   "execution_count": 19,
   "metadata": {},
   "outputs": [
    {
     "name": "stderr",
     "output_type": "stream",
     "text": [
      "c:\\Users\\User\\Documents\\CMM307-PRINCESS-UKANWA\\cmmvenv\\Lib\\site-packages\\transformers\\training_args.py:1575: FutureWarning: `evaluation_strategy` is deprecated and will be removed in version 4.46 of 🤗 Transformers. Use `eval_strategy` instead\n",
      "  warnings.warn(\n"
     ]
    }
   ],
   "source": [
    "training_args_top_layer = TrainingArguments(\n",
    "    output_dir=\"./results-top-layer\",\n",
    "    evaluation_strategy=\"epoch\",\n",
    "    logging_strategy=\"steps\",\n",
    "    logging_steps=10,\n",
    "    disable_tqdm=False,\n",
    "    save_strategy=\"epoch\",\n",
    "    learning_rate=lr,\n",
    "    per_device_train_batch_size=batch_size,\n",
    "    per_device_eval_batch_size=batch_size,\n",
    "    num_train_epochs=num_epochs,\n",
    "    logging_dir=\"./logs\",\n",
    "    load_best_model_at_end=True,\n",
    "    use_cpu = not torch.cuda.is_available(),\n",
    ")\n",
    "\n",
    "trainer_top_layer = Trainer(\n",
    "    model=model_top_layer,\n",
    "    args=training_args_top_layer,\n",
    "    train_dataset=small_train_dataset,\n",
    "    eval_dataset=small_test_dataset,\n",
    "    data_collator=data_collator,\n",
    "    compute_metrics=compute_metrics,\n",
    ")"
   ]
  },
  {
   "cell_type": "code",
   "execution_count": 20,
   "metadata": {},
   "outputs": [
    {
     "name": "stderr",
     "output_type": "stream",
     "text": [
      " 10%|█         | 2/20 [00:21<03:15, 10.88s/it]\n",
      " 10%|█         | 2/20 [00:25<03:15, 10.88s/it]"
     ]
    },
    {
     "name": "stdout",
     "output_type": "stream",
     "text": [
      "{'eval_loss': 2.630808115005493, 'eval_accuracy': 0.25, 'eval_f1_per_class': {'class_0': 0.4, 'class_1': 0.0, 'class_2': 0.0, 'class_3': 0.0}, 'eval_weighted_f1': 0.1, 'eval_runtime': 3.9505, 'eval_samples_per_second': 4.05, 'eval_steps_per_second': 0.506, 'epoch': 1.0}\n"
     ]
    },
    {
     "name": "stderr",
     "output_type": "stream",
     "text": [
      " 20%|██        | 4/20 [00:49<03:28, 13.06s/it]\n",
      " 20%|██        | 4/20 [00:54<03:28, 13.06s/it]"
     ]
    },
    {
     "name": "stdout",
     "output_type": "stream",
     "text": [
      "{'eval_loss': 1.6038190126419067, 'eval_accuracy': 0.25, 'eval_f1_per_class': {'class_0': 0.0, 'class_1': 0.4, 'class_2': 0.0, 'class_3': 0.0}, 'eval_weighted_f1': 0.1, 'eval_runtime': 5.0246, 'eval_samples_per_second': 3.184, 'eval_steps_per_second': 0.398, 'epoch': 2.0}\n"
     ]
    },
    {
     "name": "stderr",
     "output_type": "stream",
     "text": [
      " 30%|███       | 6/20 [01:27<03:49, 16.40s/it]\n",
      " 30%|███       | 6/20 [01:34<03:49, 16.40s/it]"
     ]
    },
    {
     "name": "stdout",
     "output_type": "stream",
     "text": [
      "{'eval_loss': 1.5799089670181274, 'eval_accuracy': 0.25, 'eval_f1_per_class': {'class_0': 0.0, 'class_1': 0.0, 'class_2': 0.4, 'class_3': 0.0}, 'eval_weighted_f1': 0.1, 'eval_runtime': 7.243, 'eval_samples_per_second': 2.209, 'eval_steps_per_second': 0.276, 'epoch': 3.0}\n"
     ]
    },
    {
     "name": "stderr",
     "output_type": "stream",
     "text": [
      " 40%|████      | 8/20 [02:21<04:18, 21.56s/it]\n",
      " 40%|████      | 8/20 [02:30<04:18, 21.56s/it]"
     ]
    },
    {
     "name": "stdout",
     "output_type": "stream",
     "text": [
      "{'eval_loss': 1.8150584697723389, 'eval_accuracy': 0.25, 'eval_f1_per_class': {'class_0': 0.0, 'class_1': 0.0, 'class_2': 0.0, 'class_3': 0.4}, 'eval_weighted_f1': 0.1, 'eval_runtime': 9.3487, 'eval_samples_per_second': 1.711, 'eval_steps_per_second': 0.214, 'epoch': 4.0}\n"
     ]
    },
    {
     "name": "stderr",
     "output_type": "stream",
     "text": [
      " 50%|█████     | 10/20 [03:14<03:57, 23.71s/it]"
     ]
    },
    {
     "name": "stdout",
     "output_type": "stream",
     "text": [
      "{'loss': 1.9443, 'grad_norm': 21.51105499267578, 'learning_rate': 1e-05, 'epoch': 5.0}\n"
     ]
    },
    {
     "name": "stderr",
     "output_type": "stream",
     "text": [
      "\n",
      " 50%|█████     | 10/20 [03:23<03:57, 23.71s/it]"
     ]
    },
    {
     "name": "stdout",
     "output_type": "stream",
     "text": [
      "{'eval_loss': 1.570296049118042, 'eval_accuracy': 0.25, 'eval_f1_per_class': {'class_0': 0.0, 'class_1': 0.0, 'class_2': 0.0, 'class_3': 0.4}, 'eval_weighted_f1': 0.1, 'eval_runtime': 8.8197, 'eval_samples_per_second': 1.814, 'eval_steps_per_second': 0.227, 'epoch': 5.0}\n"
     ]
    },
    {
     "name": "stderr",
     "output_type": "stream",
     "text": [
      " 60%|██████    | 12/20 [04:09<03:20, 25.07s/it]\n",
      " 60%|██████    | 12/20 [04:18<03:20, 25.07s/it]"
     ]
    },
    {
     "name": "stdout",
     "output_type": "stream",
     "text": [
      "{'eval_loss': 1.4000468254089355, 'eval_accuracy': 0.25, 'eval_f1_per_class': {'class_0': 0.4, 'class_1': 0.0, 'class_2': 0.0, 'class_3': 0.0}, 'eval_weighted_f1': 0.1, 'eval_runtime': 8.6544, 'eval_samples_per_second': 1.849, 'eval_steps_per_second': 0.231, 'epoch': 6.0}\n"
     ]
    },
    {
     "name": "stderr",
     "output_type": "stream",
     "text": [
      " 70%|███████   | 14/20 [04:58<02:26, 24.44s/it]\n",
      " 70%|███████   | 14/20 [05:06<02:26, 24.44s/it]"
     ]
    },
    {
     "name": "stdout",
     "output_type": "stream",
     "text": [
      "{'eval_loss': 1.412597417831421, 'eval_accuracy': 0.4375, 'eval_f1_per_class': {'class_0': 0.6667, 'class_1': 0.5333, 'class_2': 0.0, 'class_3': 0.0}, 'eval_weighted_f1': 0.3, 'eval_runtime': 8.5484, 'eval_samples_per_second': 1.872, 'eval_steps_per_second': 0.234, 'epoch': 7.0}\n"
     ]
    },
    {
     "name": "stderr",
     "output_type": "stream",
     "text": [
      " 80%|████████  | 16/20 [05:54<01:44, 26.06s/it]\n",
      " 80%|████████  | 16/20 [06:03<01:44, 26.06s/it]"
     ]
    },
    {
     "name": "stdout",
     "output_type": "stream",
     "text": [
      "{'eval_loss': 1.4552253484725952, 'eval_accuracy': 0.25, 'eval_f1_per_class': {'class_0': 0.0, 'class_1': 0.4211, 'class_2': 0.0, 'class_3': 0.0}, 'eval_weighted_f1': 0.1053, 'eval_runtime': 8.6461, 'eval_samples_per_second': 1.851, 'eval_steps_per_second': 0.231, 'epoch': 8.0}\n"
     ]
    },
    {
     "name": "stderr",
     "output_type": "stream",
     "text": [
      " 90%|█████████ | 18/20 [06:47<00:51, 25.64s/it]\n",
      " 90%|█████████ | 18/20 [06:56<00:51, 25.64s/it]"
     ]
    },
    {
     "name": "stdout",
     "output_type": "stream",
     "text": [
      "{'eval_loss': 1.4565331935882568, 'eval_accuracy': 0.25, 'eval_f1_per_class': {'class_0': 0.0, 'class_1': 0.4, 'class_2': 0.0, 'class_3': 0.0}, 'eval_weighted_f1': 0.1, 'eval_runtime': 8.6915, 'eval_samples_per_second': 1.841, 'eval_steps_per_second': 0.23, 'epoch': 9.0}\n"
     ]
    },
    {
     "name": "stderr",
     "output_type": "stream",
     "text": [
      "100%|██████████| 20/20 [07:36<00:00, 24.27s/it]"
     ]
    },
    {
     "name": "stdout",
     "output_type": "stream",
     "text": [
      "{'loss': 1.3857, 'grad_norm': 15.834243774414062, 'learning_rate': 0.0, 'epoch': 10.0}\n"
     ]
    },
    {
     "name": "stderr",
     "output_type": "stream",
     "text": [
      "\n",
      "100%|██████████| 20/20 [07:47<00:00, 24.27s/it]"
     ]
    },
    {
     "name": "stdout",
     "output_type": "stream",
     "text": [
      "{'eval_loss': 1.454874038696289, 'eval_accuracy': 0.25, 'eval_f1_per_class': {'class_0': 0.0, 'class_1': 0.4, 'class_2': 0.0, 'class_3': 0.0}, 'eval_weighted_f1': 0.1, 'eval_runtime': 8.939, 'eval_samples_per_second': 1.79, 'eval_steps_per_second': 0.224, 'epoch': 10.0}\n"
     ]
    },
    {
     "name": "stderr",
     "output_type": "stream",
     "text": [
      "100%|██████████| 20/20 [07:50<00:00, 23.53s/it]"
     ]
    },
    {
     "name": "stdout",
     "output_type": "stream",
     "text": [
      "{'train_runtime': 470.5159, 'train_samples_per_second': 0.34, 'train_steps_per_second': 0.043, 'train_loss': 1.664987564086914, 'epoch': 10.0}\n"
     ]
    },
    {
     "name": "stderr",
     "output_type": "stream",
     "text": [
      "\n"
     ]
    },
    {
     "data": {
      "text/plain": [
       "TrainOutput(global_step=20, training_loss=1.664987564086914, metrics={'train_runtime': 470.5159, 'train_samples_per_second': 0.34, 'train_steps_per_second': 0.043, 'total_flos': 28416504250368.0, 'train_loss': 1.664987564086914, 'epoch': 10.0})"
      ]
     },
     "execution_count": 20,
     "metadata": {},
     "output_type": "execute_result"
    }
   ],
   "source": [
    "trainer_top_layer.train()"
   ]
  },
  {
   "cell_type": "code",
   "execution_count": 21,
   "metadata": {},
   "outputs": [
    {
     "name": "stderr",
     "output_type": "stream",
     "text": [
      "100%|██████████| 2/2 [00:04<00:00,  2.21s/it]\n"
     ]
    }
   ],
   "source": [
    "results_top_layer = trainer_top_layer.evaluate()"
   ]
  },
  {
   "cell_type": "code",
   "execution_count": 22,
   "metadata": {},
   "outputs": [
    {
     "name": "stdout",
     "output_type": "stream",
     "text": [
      "{'eval_loss': 1.4000468254089355, 'eval_accuracy': 0.25, 'eval_f1_per_class': {'class_0': 0.4, 'class_1': 0.0, 'class_2': 0.0, 'class_3': 0.0}, 'eval_weighted_f1': 0.1, 'eval_runtime': 8.7918, 'eval_samples_per_second': 1.82, 'eval_steps_per_second': 0.227, 'epoch': 10.0}\n"
     ]
    }
   ],
   "source": [
    "print(results_top_layer)"
   ]
  },
  {
   "cell_type": "markdown",
   "metadata": {},
   "source": [
    "## Paper Evaluation\n",
    "The results from using only the top layer of BERT for text classification reveal that this approach does not enhance classification accuracy but rather reduces it. The results indicates that relying solely on the top layer can limit the model's effectiveness, as evidenced by the particularly poor performance in Class 2  and the low overall accuracy of 25% as compared to the 62.5% outputted by the full layer implementation of BERT. The overall results  convey that the all-layers method improves accuracy and F1 scores across classes.\n",
    "\n",
    "However, the paper discusses several fine-tuning techniques that were not employed in this implementation, such as further pre-training, multi-task learning, and adjustments to learning rates. Exploring these additional strategies could potentially enhance the model's performance, making it more efficient in classifying texts across all categories. Therefore, integrating these techniques may lead to better outcomes and a more robust classification model."
   ]
  },
  {
   "cell_type": "code",
   "execution_count": 28,
   "metadata": {},
   "outputs": [
    {
     "data": {
      "image/png": "[encoded data removed]",
      "text/plain": [
       "<Figure size 1200x600 with 1 Axes>"
      ]
     },
     "metadata": {},
     "output_type": "display_data"
    }
   ],
   "source": [
    "# plot the results\n",
    "\n",
    "# get results for each BERT variant\n",
    "bert_results = {\n",
    "    \"Full BERT\": results,\n",
    "    \"Top Layer BERT\": results_top_layer,\n",
    "}\n",
    "\n",
    "# extract the accuracy and weighted F1 scores\n",
    "accuracies = [result[\"eval_accuracy\"] for result in bert_results.values()]\n",
    "# weighted_f1_scores = [result[\"eval_weighted_f1\"] for result in bert_results.values()]\n",
    "\n",
    "# plot the results\n",
    "plt.figure(figsize=(12, 6))\n",
    "\n",
    "plt.bar(bert_results.keys(), accuracies, color='skyblue', label='Accuracy')\n",
    "# plt.bar(bert_results.keys(), weighted_f1_scores, color='salmon', label='Weighted F1 Score')\n",
    "\n",
    "plt.ylabel(\"Score\")\n",
    "plt.title(\"BERT Model Comparison  - Accuracy\")\n",
    "plt.legend()\n",
    "\n",
    "plt.show()"
   ]
  },
  {
   "cell_type": "code",
   "execution_count": 30,
   "metadata": {},
   "outputs": [
    {
     "data": {
      "image/png": "[encoded data removed]",
      "text/plain": [
       "<Figure size 1200x600 with 1 Axes>"
      ]
     },
     "metadata": {},
     "output_type": "display_data"
    }
   ],
   "source": [
    "# plot weighted f1 score\n",
    "\n",
    "# get f1 score for each class in each BERT variant\n",
    "f1_per_class = {\n",
    "    model_name: result[\"eval_f1_per_class\"]\n",
    "    for model_name, result in bert_results.items()\n",
    "}\n",
    "\n",
    "# extract the f1 scores for each class\n",
    "\n",
    "f1_scores = {\n",
    "    cls: [f1[cls] for f1 in f1_per_class.values()]\n",
    "    for cls in f1_per_class[\"Full BERT\"].keys()\n",
    "}\n",
    "\n",
    "# plot the results\n",
    "plt.figure(figsize=(12, 6))\n",
    "\n",
    "for cls, scores in f1_scores.items():\n",
    "    plt.plot(bert_results.keys(), scores, marker='o', label=f'Class {cls}')\n",
    "\n",
    "plt.ylabel(\"F1 Score\")\n",
    "plt.title(\"BERT Model Comparison - F1 Score per Class\")\n",
    "plt.legend()\n",
    "\n",
    "plt.show()"
   ]
  }
 ],
 "metadata": {
  "kernelspec": {
   "display_name": "cmmvenv",
   "language": "python",
   "name": "python3"
  },
  "language_info": {
   "codemirror_mode": {
    "name": "ipython",
    "version": 3
   },
   "file_extension": ".py",
   "mimetype": "text/x-python",
   "name": "python",
   "nbconvert_exporter": "python",
   "pygments_lexer": "ipython3",
   "version": "3.11.5"
  }
 },
 "nbformat": 4,
 "nbformat_minor": 2
}
